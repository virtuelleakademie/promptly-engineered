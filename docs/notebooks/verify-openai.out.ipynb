{
  "cells": [
    {
      "cell_type": "markdown",
      "metadata": {},
      "source": [
        "# Setup and verify Openai\n",
        "\n",
        "Your OpenAI API key is stored in your `.env` file. You can access it\n",
        "with the following code:"
      ],
      "id": "14a86896-663d-4dc7-85f2-fcb546bd15b5"
    },
    {
      "cell_type": "code",
      "execution_count": 18,
      "metadata": {},
      "outputs": [],
      "source": [
        "import os\n",
        "from dotenv import load_dotenv\n",
        "from openai import OpenAI\n",
        "from IPython.display import display, Markdown"
      ],
      "id": "cell-2"
    },
    {
      "cell_type": "code",
      "execution_count": null,
      "metadata": {},
      "outputs": [],
      "source": [
        "\n",
        "# Load environment variables from .env file\n",
        "load_dotenv()\n",
        "\n",
        "# Create OpenAI client with API key\n",
        "client = OpenAI(api_key=os.getenv(\"OPENAI_API_KEY\"))"
      ],
      "id": "cell-3"
    },
    {
      "cell_type": "code",
      "execution_count": 23,
      "metadata": {},
      "outputs": [],
      "source": [
        "def get_ai_response(message, temperature=1.0, width=80):\n",
        "    \"\"\"\n",
        "    Get a response from OpenAI's API and display it wrapped in the notebook.\n",
        "    \n",
        "    Args:\n",
        "        message (str): The user's input message\n",
        "        temperature (float): Controls randomness (0.0 to 2.0, default 1.0)\n",
        "        width (int): Maximum line width for text wrapping\n",
        "        \n",
        "    Returns:\n",
        "        str: The AI's response text\n",
        "    \"\"\"\n",
        "    try:\n",
        "        response = client.chat.completions.create(\n",
        "            model=\"gpt-4\",\n",
        "            messages=[{\"role\": \"user\", \"content\": message}],\n",
        "            temperature=temperature,\n",
        "            max_tokens=2048,\n",
        "            response_format={\"type\": \"text\"}\n",
        "        )\n",
        "        \n",
        "        # Get the response text\n",
        "        text = response.choices[0].message.content\n",
        "        \n",
        "        # Option 1: Display as wrapped Markdown\n",
        "        display(Markdown(f\"```\\n{text}\\n```\"))\n",
        "        \n",
        "        # return text\n",
        "        \n",
        "    except Exception as e:\n",
        "        return f\"Error: {str(e)}\""
      ],
      "id": "cell-4"
    },
    {
      "cell_type": "code",
      "execution_count": 24,
      "metadata": {},
      "outputs": [],
      "source": [
        "get_ai_response(\"Hello, how are you?\")"
      ],
      "id": "cell-get-ai-response"
    },
    {
      "cell_type": "code",
      "execution_count": 33,
      "metadata": {},
      "outputs": [],
      "source": [
        "import textwrap\n",
        "\n",
        "def get_ai_response_2(message, temperature=1.0, width=80):\n",
        "    \"\"\"\n",
        "    Get a response from OpenAI's API and display it wrapped in the notebook.\n",
        "    \n",
        "    Args:\n",
        "        message (str): The user's input message\n",
        "        temperature (float): Controls randomness (0.0 to 2.0, default 1.0)\n",
        "        width (int): Maximum line width for text wrapping\n",
        "        \n",
        "    Returns:\n",
        "        str: The AI's response text\n",
        "    \"\"\"\n",
        "    try:\n",
        "        response = client.chat.completions.create(\n",
        "            model=\"gpt-4\",\n",
        "            messages=[{\"role\": \"user\", \"content\": message}],\n",
        "            temperature=temperature,\n",
        "            max_tokens=2048,\n",
        "            response_format={\"type\": \"text\"}\n",
        "        )\n",
        "        # Get the response text\n",
        "        text = response.choices[0].message.content\n",
        "        \n",
        "        # Option 2: Wrap text using textwrap\n",
        "        wrapped_text = textwrap.fill(text, width=width)\n",
        "        print(wrapped_text)\n",
        "        \n",
        "        # return text\n",
        "\n",
        "    except Exception as e:\n",
        "        return f\"Error: {str(e)}\""
      ],
      "id": "cell-6"
    },
    {
      "cell_type": "code",
      "execution_count": 34,
      "metadata": {},
      "outputs": [
        {
          "output_type": "stream",
          "name": "stdout",
          "text": [
            "As an artificial intelligence, I don't have feelings, but I'm functioning as\n",
            "expected. Thank you! How can I assist you today?"
          ]
        }
      ],
      "source": [
        "get_ai_response_2(\"Hello, how are you?\")\n"
      ],
      "id": "get-ai-response-2"
    }
  ],
  "nbformat": 4,
  "nbformat_minor": 5,
  "metadata": {
    "kernelspec": {
      "name": "python3",
      "display_name": "venv",
      "language": "python"
    },
    "language_info": {
      "name": "python",
      "codemirror_mode": {
        "name": "ipython",
        "version": "3"
      },
      "file_extension": ".py",
      "mimetype": "text/x-python",
      "nbconvert_exporter": "python",
      "pygments_lexer": "ipython3",
      "version": "3.13.0"
    }
  }
}