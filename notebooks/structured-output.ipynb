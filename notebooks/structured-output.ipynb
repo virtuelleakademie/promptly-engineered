{
 "cells": [
  {
   "cell_type": "code",
   "execution_count": null,
   "metadata": {},
   "outputs": [],
   "source": []
  },
  {
   "cell_type": "markdown",
   "metadata": {},
   "source": [
    "# Structured Output\n",
    "\n",
    "A very useful feature of OpenAI's API is the ability to return structured data. This is useful for a variety of reasons, but one of the most common is to return a JSON object.\n",
    "Here is the official [OpenAI documentation for structured output](https://platform.openai.com/docs/guides/structured-outputs).\n",
    "\n",
    "OpenAI's API can return responses in structured formats like JSON, making it easier to:\n",
    "\n",
    "- Parse and process responses programmatically\n",
    "- Ensure consistent output formats\n",
    "- Integrate with existing systems and databases\n",
    "\n",
    "When using structured output, you can:\n",
    "\n",
    "1. Define specific JSON schemas for your responses\n",
    "2. Get predictable data structures instead of free-form text\n",
    "3. Reduce the need for additional parsing/processing\n",
    "\n",
    "Common use cases include:\n",
    "\n",
    "- Extracting specific fields from text\n",
    "- Converting unstructured data into structured formats\n",
    "- Creating standardized API responses\n",
    "- Building data pipelines with LLM outputs\n",
    "\n",
    "\n",
    "Put very simply, the difference between structured and unstructured output is illustrated by the following example: Imagine you want to know the current weather in a city.\n",
    "\n",
    "**Unstructured output:** The response is a free-form text response.\n",
    "\n",
    "> \"The current weather in Bern is 8 degrees Celsius with partly cloudy skies.\"\n",
    "\n",
    "or \n",
    "\n",
    "> The weather in Bern is 10° with rain.\n",
    "\n",
    "**Structured output:** The response is a JSON object with the weather information.\n",
    "```json\n",
    "{\"city\": \"Bern\", \n",
    "\"temperature\": 8, \n",
    "\"scale\": \"Celsius\",\n",
    "\"condition\": \"partly cloudy\"}\n",
    "```\n",
    "\n",
    "The benefit of structured output is that it is easier to parse and process programmatically. A further advantage is that we can use a data validation library like Pydantic to ensure that the response is in the expected format.\n",
    "\n",
    "To use this feature, we first need to install the `pydantic` package.\n",
    "\n",
    "```bash\n",
    "pip install pydantic\n",
    "```\n",
    "\n",
    "Then we can define a Pydantic model to describe the expected structure of the response.\n",
    "\n",
    "```python\n",
    "from pydantic import BaseModel\n",
    "\n",
    "class Weather(BaseModel):\n",
    "    city: str\n",
    "    temperature: float\n",
    "    scale: str\n",
    "    condition: str\n",
    "```\n",
    "\n",
    "We can use this object as the `response_format` parameter in the `openai.ChatCompletion.create` method.\n",
    "\n",
    "## Extracting facts from text\n",
    "\n",
    "Here is an example of how to use structured output. Since a pre-trained model is not actually able to provide weather information without calling a weather API, we will use a prompt that asks the model to give us some facts contained in a text about a composer. For example, we want to extract the composer's name, the year of birth and death, and the country of origin, the genre of music they worked in, and some key works.\n"
   ]
  },
  {
   "cell_type": "code",
   "execution_count": 6,
   "metadata": {},
   "outputs": [],
   "source": [
    "from dotenv import load_dotenv\n",
    "from openai import OpenAI "
   ]
  },
  {
   "cell_type": "code",
   "execution_count": 4,
   "metadata": {},
   "outputs": [],
   "source": [
    "#| output: hide\n",
    "load_dotenv()\n",
    "\n",
    "client = OpenAI()"
   ]
  },
  {
   "cell_type": "markdown",
   "metadata": {},
   "source": [
    "Next we define a Pydantic model to describe the expected structure of the response. The fields of the model correspond to the facts we want to extract.\n",
    "\n",
    "In this case, we want to extract the following facts (if available):\n",
    "\n",
    "- The composer's name\n",
    "- The year of birth\n",
    "- The year of death\n",
    "- The country of origin\n",
    "- The genre of music they worked in\n",
    "- Some key works    \n"
   ]
  },
  {
   "cell_type": "code",
   "execution_count": 12,
   "metadata": {},
   "outputs": [],
   "source": [
    "from pydantic import BaseModel\n",
    "from typing import List, Optional\n",
    "\n",
    "class ComposerFactSheet(BaseModel):\n",
    "    name: str\n",
    "    birth_year: int\n",
    "    death_year: Optional[int] = None  # Optional for living composers\n",
    "    country: str\n",
    "    genre: str\n",
    "    key_works: List[str]\n"
   ]
  },
  {
   "cell_type": "markdown",
   "metadata": {},
   "source": [
    "This is a Pydantic model that defines a structured data format for storing information about composers:\n",
    "\n",
    "1. `class ComposerFactSheet(BaseModel)`: Creates a new class that inherits from Pydantic's `BaseModel`, giving it data validation capabilities.\n",
    "2. `name: str`: A required field for the composer's name.\n",
    "3. `birth_year: int`: A required field for the year of birth.\n",
    "4. `death_year: Optional[int] = None`: An optional field for the year of death.\n",
    "5. `country: str`: A required field for the country of origin.\n",
    "6. `genre: str`: A required field for the genre of music.\n",
    "7. `key_works: List[str]`: A required field for a list of key works.\n",
    "\n",
    "\n",
    "When used, this model will:\n",
    "\n",
    "- Validate that all required fields are present\n",
    "- Convert input data to the correct types when possible\n",
    "- Raise validation errors if data doesn't match the schema\n",
    "\n",
    "Example output:\n",
    "\n",
    "```python\n",
    "composer = ComposerFactSheet(\n",
    "    name=\"Johann Sebastian Bach\",\n",
    "    birth_year=1685,\n",
    "    death_year=1750,\n",
    "    country=\"Germany\",\n",
    "    genre=\"Baroque\",\n",
    "    key_works=[\"Mass in B minor\", \"The Well-Tempered Clavier\"]\n",
    ")\n",
    "```\n",
    "\n"
   ]
  },
  {
   "cell_type": "markdown",
   "metadata": {},
   "source": [
    "Let's try this with a suitable system prompt and a short paragraph about [Eric Satie](https://en.wikipedia.org/wiki/Erik_Satie). We will use the `GPT-4o` model for this.\n"
   ]
  },
  {
   "cell_type": "code",
   "execution_count": 7,
   "metadata": {},
   "outputs": [],
   "source": [
    "text = \"\"\"\n",
    "Éric Alfred Leslie Satie (1866–1925) was a French composer and pianist known for his eccentric personality and groundbreaking contributions to music. Often associated with the Parisian avant-garde, Satie coined the term “furniture music” (musique d’ameublement) to describe background music intended to blend into the environment, an early precursor to ambient music. He is perhaps best known for his piano compositions, particularly the Gymnopédies and Gnossiennes, which are characterized by their simplicity, haunting melodies, and innovative use of harmony. Satie’s collaborations with artists like Claude Debussy, Pablo Picasso, and Jean Cocteau established him as a central figure in early 20th-century modernism. Despite his whimsical demeanor, he significantly influenced composers such as John Cage and minimalists of the mid-20th century.\n",
    "\"\"\"\n"
   ]
  },
  {
   "cell_type": "code",
   "execution_count": 8,
   "metadata": {},
   "outputs": [],
   "source": [
    "system_prompt = \"\"\"\n",
    "You are an expert at extracting structured data from unstructured text.\n",
    "\"\"\"\n",
    "\n",
    "user_message = f\"\"\"\n",
    "Please extract the following information from the text: {text}\n",
    "\"\"\""
   ]
  },
  {
   "cell_type": "markdown",
   "metadata": {},
   "source": [
    "The f-string (formatted string literal)is used to embed the `text` variable into the `user_message` string.\n",
    "This allows us to dynamically construct the prompt that will be sent to the language model,\n",
    "including the specific text we want it to extract structured information from.\n",
    "Without the f-string, we would need to concatenate the strings manually, which can be more error-prone and less readable.\n",
    "\n"
   ]
  },
  {
   "cell_type": "code",
   "execution_count": 13,
   "metadata": {},
   "outputs": [],
   "source": [
    "\n",
    "completion = client.beta.chat.completions.parse(\n",
    "    model=\"gpt-4o-2024-08-06\",\n",
    "    messages=[\n",
    "        {\"role\": \"system\", \n",
    "        \"content\": system_prompt},\n",
    "        {\"role\": \"user\", \n",
    "        \"content\": user_message}\n",
    "    ],\n",
    "    response_format=ComposerFactSheet\n",
    ")"
   ]
  },
  {
   "cell_type": "code",
   "execution_count": 14,
   "metadata": {},
   "outputs": [
    {
     "name": "stdout",
     "output_type": "stream",
     "text": [
      "name='Éric Alfred Leslie Satie' birth_year=1866 death_year=1925 country='France' genre='Classical, Avant-Garde' key_works=['Gymnopédies', 'Gnossiennes']\n"
     ]
    }
   ],
   "source": [
    "\n",
    "factsheet = completion.choices[0].message.parsed\n",
    "print(factsheet)\n"
   ]
  },
  {
   "cell_type": "markdown",
   "metadata": {},
   "source": [
    "We can now access the fields of the `factsheet` object."
   ]
  },
  {
   "cell_type": "code",
   "execution_count": 18,
   "metadata": {},
   "outputs": [
    {
     "data": {
      "text/plain": [
       "'Éric Alfred Leslie Satie'"
      ]
     },
     "execution_count": 18,
     "metadata": {},
     "output_type": "execute_result"
    }
   ],
   "source": [
    "factsheet.name"
   ]
  },
  {
   "cell_type": "code",
   "execution_count": 24,
   "metadata": {},
   "outputs": [
    {
     "data": {
      "text/plain": [
       "['Gymnopédies', 'Gnossiennes']"
      ]
     },
     "execution_count": 24,
     "metadata": {},
     "output_type": "execute_result"
    }
   ],
   "source": [
    "factsheet.key_works"
   ]
  },
  {
   "cell_type": "markdown",
   "metadata": {},
   "source": [
    "Let's try another example. This time we will attempt to extract information from a paragraph in which some of the information is missing.\n"
   ]
  },
  {
   "cell_type": "code",
   "execution_count": 20,
   "metadata": {},
   "outputs": [],
   "source": [
    "text_2 = \"\"\"\n",
    "Frédéric Chopin (1810) was a composer and virtuoso pianist, renowned for his deeply expressive and technically innovative piano works. Often called the “Poet of the Piano,” Chopin’s music, including his nocturnes, mazurkas, and polonaises, is celebrated for blending Polish folk elements with Romantic lyricism. Born near Warsaw, he spent much of his career in Paris, influencing generations of musicians and cementing his place as one of the greatest composers of all time.\n",
    "\"\"\""
   ]
  },
  {
   "cell_type": "code",
   "execution_count": 22,
   "metadata": {},
   "outputs": [],
   "source": [
    "user_message = f\"\"\"\n",
    "Please extract the following information from the text: {text_2}\n",
    "\"\"\"\n"
   ]
  },
  {
   "cell_type": "code",
   "execution_count": 23,
   "metadata": {},
   "outputs": [],
   "source": [
    "\n",
    "completion_2 = client.beta.chat.completions.parse(\n",
    "    model=\"gpt-4o-2024-08-06\",\n",
    "    messages=[\n",
    "        {\"role\": \"system\", \n",
    "        \"content\": system_prompt},\n",
    "        {\"role\": \"user\", \n",
    "        \"content\": user_message}\n",
    "    ],\n",
    "    response_format=ComposerFactSheet\n",
    ")"
   ]
  },
  {
   "cell_type": "code",
   "execution_count": 25,
   "metadata": {},
   "outputs": [
    {
     "data": {
      "text/plain": [
       "ComposerFactSheet(name='Frédéric Chopin', birth_year=1810, death_year=None, country='Poland', genre='Romantic', key_works=['nocturnes', 'mazurkas', 'polonaises'])"
      ]
     },
     "execution_count": 25,
     "metadata": {},
     "output_type": "execute_result"
    }
   ],
   "source": [
    "completion_2.choices[0].message.parsed"
   ]
  },
  {
   "cell_type": "markdown",
   "metadata": {},
   "source": [
    "An obvious next step would be to improve our prompting strategy, so that the model indicates which fields it is able to fill in, and which fields are associated with uncertain or missing information.\n",
    "\n",
    "## Creating a reusable function\n",
    "However, we will focus on making our code more resuable by creating a function that can be called with different texts."
   ]
  },
  {
   "cell_type": "code",
   "execution_count": 26,
   "metadata": {},
   "outputs": [],
   "source": [
    "def extract_composer_facts(text: str) -> ComposerFactSheet:\n",
    "    system_prompt = \"\"\"\n",
    "    You are an expert at extracting structured data from unstructured text.\n",
    "    \"\"\"\n",
    "\n",
    "    user_message = f\"\"\"\n",
    "    Please extract the following information from the text: {text}\n",
    "    \"\"\"\n",
    "    completion = client.beta.chat.completions.parse(\n",
    "        model=\"gpt-4o-2024-08-06\",\n",
    "        messages=[\n",
    "            {\"role\": \"system\", \n",
    "            \"content\": system_prompt},\n",
    "            {\"role\": \"user\", \n",
    "            \"content\": user_message}\n",
    "        ],\n",
    "        response_format=ComposerFactSheet\n",
    "    )\n",
    "    return completion.choices[0].message.parsed"
   ]
  },
  {
   "cell_type": "code",
   "execution_count": 27,
   "metadata": {},
   "outputs": [],
   "source": [
    "bach_text = \"\"\"\n",
    "Johann Sebastian Bach (1685–1750) was a German composer and musician of the Baroque era, widely regarded as one of the greatest composers in Western music history. His masterful works, including the Brandenburg Concertos, The Well-Tempered Clavier, and the Mass in B Minor, showcase unparalleled contrapuntal skill and emotional depth. Bach’s music has influenced countless composers and remains a cornerstone of classical music education and performance worldwide.\n",
    "\"\"\"\n"
   ]
  },
  {
   "cell_type": "code",
   "execution_count": 28,
   "metadata": {},
   "outputs": [
    {
     "data": {
      "text/plain": [
       "ComposerFactSheet(name='Johann Sebastian Bach', birth_year=1685, death_year=1750, country='Germany', genre='Baroque', key_works=['Brandenburg Concertos', 'The Well-Tempered Clavier', 'Mass in B Minor'])"
      ]
     },
     "execution_count": 28,
     "metadata": {},
     "output_type": "execute_result"
    }
   ],
   "source": [
    "\n",
    "extract_composer_facts(bach_text)"
   ]
  },
  {
   "cell_type": "code",
   "execution_count": null,
   "metadata": {},
   "outputs": [],
   "source": []
  }
 ],
 "metadata": {
  "kernelspec": {
   "display_name": "venv",
   "language": "python",
   "name": "python3"
  },
  "language_info": {
   "codemirror_mode": {
    "name": "ipython",
    "version": 3
   },
   "file_extension": ".py",
   "mimetype": "text/x-python",
   "name": "python",
   "nbconvert_exporter": "python",
   "pygments_lexer": "ipython3",
   "version": "3.13.0"
  }
 },
 "nbformat": 4,
 "nbformat_minor": 2
}
