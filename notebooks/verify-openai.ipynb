{
 "cells": [
  {
   "cell_type": "markdown",
   "metadata": {},
   "source": [
    "---\n",
    "format:\n",
    "    html:\n",
    "        code-fold: false\n",
    "---"
   ]
  },
  {
   "cell_type": "markdown",
   "metadata": {},
   "source": [
    "# Setup and verify Openai\n",
    "\n",
    "\n",
    "Your OpenAI API key is stored in your `.env` file. You can access it with the following code:\n"
   ]
  },
  {
   "cell_type": "code",
   "execution_count": 18,
   "metadata": {},
   "outputs": [],
   "source": [
    "import os\n",
    "from dotenv import load_dotenv\n",
    "from openai import OpenAI\n",
    "from IPython.display import display, Markdown"
   ]
  },
  {
   "cell_type": "code",
   "execution_count": null,
   "metadata": {},
   "outputs": [],
   "source": [
    "\n",
    "# Load environment variables from .env file\n",
    "load_dotenv()\n",
    "\n",
    "# Create OpenAI client with API key\n",
    "client = OpenAI(api_key=os.getenv(\"OPENAI_API_KEY\"))"
   ]
  },
  {
   "cell_type": "code",
   "execution_count": 23,
   "metadata": {},
   "outputs": [],
   "source": [
    "def get_ai_response(message, temperature=1.0, width=80):\n",
    "    \"\"\"\n",
    "    Get a response from OpenAI's API and display it wrapped in the notebook.\n",
    "    \n",
    "    Args:\n",
    "        message (str): The user's input message\n",
    "        temperature (float): Controls randomness (0.0 to 2.0, default 1.0)\n",
    "        width (int): Maximum line width for text wrapping\n",
    "        \n",
    "    Returns:\n",
    "        str: The AI's response text\n",
    "    \"\"\"\n",
    "    try:\n",
    "        response = client.chat.completions.create(\n",
    "            model=\"gpt-4\",\n",
    "            messages=[{\"role\": \"user\", \"content\": message}],\n",
    "            temperature=temperature,\n",
    "            max_tokens=2048,\n",
    "            response_format={\"type\": \"text\"}\n",
    "        )\n",
    "        \n",
    "        # Get the response text\n",
    "        text = response.choices[0].message.content\n",
    "        \n",
    "        # Option 1: Display as wrapped Markdown\n",
    "        display(Markdown(f\"```\\n{text}\\n```\"))\n",
    "        \n",
    "        # return text\n",
    "        \n",
    "    except Exception as e:\n",
    "        return f\"Error: {str(e)}\""
   ]
  },
  {
   "cell_type": "code",
   "execution_count": 24,
   "metadata": {},
   "outputs": [
    {
     "data": {
      "text/markdown": [
       "```\n",
       "As an AI, I don't have feelings, but I'm here and ready to assist you. How can I help you today?\n",
       "```"
      ],
      "text/plain": [
       "<IPython.core.display.Markdown object>"
      ]
     },
     "metadata": {},
     "output_type": "display_data"
    }
   ],
   "source": [
    "#| label: get-ai-response\n",
    "#| code-fold: false\n",
    "get_ai_response(\"Hello, how are you?\")"
   ]
  },
  {
   "cell_type": "code",
   "execution_count": 33,
   "metadata": {},
   "outputs": [],
   "source": [
    "import textwrap\n",
    "\n",
    "def get_ai_response_2(message, temperature=1.0, width=80):\n",
    "    \"\"\"\n",
    "    Get a response from OpenAI's API and display it wrapped in the notebook.\n",
    "    \n",
    "    Args:\n",
    "        message (str): The user's input message\n",
    "        temperature (float): Controls randomness (0.0 to 2.0, default 1.0)\n",
    "        width (int): Maximum line width for text wrapping\n",
    "        \n",
    "    Returns:\n",
    "        str: The AI's response text\n",
    "    \"\"\"\n",
    "    try:\n",
    "        response = client.chat.completions.create(\n",
    "            model=\"gpt-4\",\n",
    "            messages=[{\"role\": \"user\", \"content\": message}],\n",
    "            temperature=temperature,\n",
    "            max_tokens=2048,\n",
    "            response_format={\"type\": \"text\"}\n",
    "        )\n",
    "        # Get the response text\n",
    "        text = response.choices[0].message.content\n",
    "        \n",
    "        # Option 2: Wrap text using textwrap\n",
    "        wrapped_text = textwrap.fill(text, width=width)\n",
    "        print(wrapped_text)\n",
    "        \n",
    "        # return text\n",
    "\n",
    "    except Exception as e:\n",
    "        return f\"Error: {str(e)}\""
   ]
  },
  {
   "cell_type": "code",
   "execution_count": 34,
   "metadata": {},
   "outputs": [
    {
     "name": "stdout",
     "output_type": "stream",
     "text": [
      "As an artificial intelligence, I don't have feelings, but I'm functioning as\n",
      "expected. Thank you! How can I assist you today?\n"
     ]
    }
   ],
   "source": [
    "#| label: get-ai-response-2\n",
    "#| code-fold: false\n",
    "get_ai_response_2(\"Hello, how are you?\")\n"
   ]
  },
  {
   "cell_type": "code",
   "execution_count": null,
   "metadata": {},
   "outputs": [],
   "source": []
  }
 ],
 "metadata": {
  "kernelspec": {
   "display_name": "venv",
   "language": "python",
   "name": "python3"
  },
  "language_info": {
   "codemirror_mode": {
    "name": "ipython",
    "version": 3
   },
   "file_extension": ".py",
   "mimetype": "text/x-python",
   "name": "python",
   "nbconvert_exporter": "python",
   "pygments_lexer": "ipython3",
   "version": "3.13.0"
  }
 },
 "nbformat": 4,
 "nbformat_minor": 2
}
