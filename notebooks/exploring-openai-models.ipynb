{
 "cells": [
  {
   "cell_type": "markdown",
   "metadata": {},
   "source": [
    "# Exploring OpenAI Models\n",
    "\n",
    "Now that we have verified that we can use the OpenAI API, we can start to use the API to generate text with the GPT-4o-mini and GPT-4o models.\n",
    "\n",
    "Let's start by generating a response from the GPT-4o-mini model.    \n"
   ]
  },
  {
   "cell_type": "markdown",
   "metadata": {},
   "source": [
    "First we need to load the `dotenv` and the `openai` packages.\n"
   ]
  },
  {
   "cell_type": "code",
   "execution_count": 22,
   "metadata": {},
   "outputs": [],
   "source": [
    "from dotenv import load_dotenv\n",
    "from openai import OpenAI "
   ]
  },
  {
   "cell_type": "markdown",
   "metadata": {},
   "source": [
    "Then we need to load the OpenAI API key from the `.env` file.\n"
   ]
  },
  {
   "cell_type": "code",
   "execution_count": 23,
   "metadata": {},
   "outputs": [
    {
     "data": {
      "text/plain": [
       "True"
      ]
     },
     "execution_count": 23,
     "metadata": {},
     "output_type": "execute_result"
    }
   ],
   "source": [
    "#| echo: true\n",
    "#| output: false\n",
    "load_dotenv()"
   ]
  },
  {
   "cell_type": "markdown",
   "metadata": {},
   "source": [
    "Then we can create a client to interact with the OpenAI API."
   ]
  },
  {
   "cell_type": "code",
   "execution_count": 24,
   "metadata": {},
   "outputs": [],
   "source": [
    "client = OpenAI()"
   ]
  },
  {
   "cell_type": "markdown",
   "metadata": {},
   "source": [
    "## System prompt\n",
    "Next we will create a system prompt that will guide the model to explain concepts from music theory in a way that is easy to understand.\n",
    "\n",
    ":::{.callout-note collapse=true}\n",
    "## System prompt\n",
    "You are a primary school music teacher. Explain music theory concepts in a concise, simple, and child-friendly way that is easy for young students to understand. Your explanations should be engaging, fun, and use comparisons or examples where appropriate to make the concept relatable.\n",
    "If a student doesn't ask about a particular topic, introduce an interesting music concept of your own to teach. Remember to keep the language accessible for young learners.\n",
    "\n",
    "### Steps\n",
    "\n",
    "- Introduce the concept or answer the student's question in a friendly manner.\n",
    "- Use simple, age-appropriate language.\n",
    "- Provide relevant examples or comparisons to make the concept easier to understand.\n",
    "- If applicable, add fun facts or engaging thoughts to make the learning process enjoyable.\n",
    "\n",
    "### Output Format\n",
    "A short but clear paragraph suitable for a primary school student, between 3-5 friendly sentences.\n",
    "\n",
    "### Examples\n",
    "\n",
    "- **Example 1: (student doesn't ask a specific question)**\n",
    "- **Concept chosen:** Musical Notes\n",
    "- **Explanation:** \"Musical notes are like the letters of the music alphabet! Just like you need letters to make words, you need notes to make songs. Each note has its own sound, and when you put them together in a certain order, they make music!\"\n",
    "\n",
    "- **Example 2: (student asks about rhythm)**\n",
    "- **Question:** What is rhythm in music?\n",
    "- **Explanation:** \"Rhythm is like the beat of your favorite song. Imagine you are clapping along to music—that's the rhythm! It tells you when to clap or tap your feet, and it helps to keep the music moving!\"\n",
    "\n",
    "### Notes\n",
    "\n",
    "- Avoid using technical jargon unless it's explained in simple terms.\n",
    "- Use playful or relatable examples where appropriate (e.g., comparing rhythm to a heartbeat or notes to colors).\n",
    "- Keep in mind that the explanations should be engaging and easy to follow.\n",
    ":::"
   ]
  },
  {
   "cell_type": "code",
   "execution_count": 25,
   "metadata": {},
   "outputs": [],
   "source": [
    "import textwrap"
   ]
  },
  {
   "cell_type": "code",
   "execution_count": 26,
   "metadata": {},
   "outputs": [],
   "source": [
    "#| output: false\n",
    "system_prompt = textwrap.fill(\n",
    "    \"\"\"\n",
    "    You are a primary school music teacher. Explain music theory concepts in a\n",
    "    concise, simple, and child-friendly way that is easy for young students to\n",
    "    understand. Your explanations should be engaging, fun, and use comparisons or\n",
    "    examples where appropriate to make the concept relatable.\\n\\nIf a student\n",
    "    doesn't ask about a particular topic, introduce an interesting music concept\n",
    "    of your own to teach. Remember to keep the language accessible for young\n",
    "    learners.\\n\\n# Steps\\n\\n- Introduce the concept or answer the student's\n",
    "    question in a friendly manner.\\n- Use simple, age-appropriate language.\\n-\n",
    "    Provide relevant examples or comparisons to make the concept easier to\n",
    "    understand.\\n- If applicable, add fun facts or engaging thoughts to make the\n",
    "    learning process enjoyable.\\n\\n# Output Format\\n\\nA short but clear paragraph\n",
    "    suitable for a primary school student, between 3-5 friendly sentences.\\n\\n#\n",
    "    Examples\\n\\n**Example 1: (student doesn't ask a specific question)**\\n\\n\n",
    "    **Concept chosen:** Musical Notes\\n**Explanation:** \\\"Musical notes are like\n",
    "    the letters of the music alphabet! Just like you need letters to make words,\n",
    "    you need notes to make songs. Each note has its own sound, and when you put\n",
    "    them together in a certain order, they make music!\\\"\\n\\n**Example 2: (student\n",
    "    asks about rhythm)**\\n\\n**Question:** What is rhythm in music?\\n\n",
    "    **Explanation:** \\\"Rhythm is like the beat of your favorite song. Imagine you\n",
    "    are clapping along to music—that's the rhythm! It tells you when to clap or\n",
    "    tap your feet, and it helps to keep the music moving!\\\" \\n\\n# Notes\\n\\n- Avoid\n",
    "    using technical jargon unless it's explained in simple terms.\\n- Use playful\n",
    "    or relatable examples where appropriate (e.g., comparing rhythm to a heartbeat\n",
    "    or notes to colors).\\n- Keep in mind that the explanations should be engaging\n",
    "    and easy to follow.\n",
    "    \"\"\",\n",
    "    width=80,\n",
    ")"
   ]
  },
  {
   "cell_type": "markdown",
   "metadata": {},
   "source": [
    "## Generate a response\n",
    "Now we can generate a response from the GPT-4o-mini model using the system prompt. We will use the `temperature` and `top_p` parameter settings, and restrict the response to 2048 tokens.\n"
   ]
  },
  {
   "cell_type": "code",
   "execution_count": 27,
   "metadata": {},
   "outputs": [],
   "source": [
    "\n",
    "response = client.chat.completions.create(\n",
    "  model=\"gpt-4o-mini\",\n",
    "  messages=[\n",
    "    {\n",
    "      \"role\": \"system\",\n",
    "      \"content\": [\n",
    "        {\n",
    "          \"type\": \"text\",\n",
    "          \"text\": system_prompt\n",
    "        }\n",
    "      ]\n",
    "    },\n",
    "    {\n",
    "      \"role\": \"user\",\n",
    "      \"content\": [\n",
    "        {\n",
    "          \"type\": \"text\",\n",
    "          \"text\": \"explain the harmonic series\\n\"\n",
    "        }\n",
    "      ]\n",
    "    }\n",
    "  ],\n",
    "  temperature=1,\n",
    "  max_tokens=2048,\n",
    "  top_p=1\n",
    ")"
   ]
  },
  {
   "cell_type": "code",
   "execution_count": 4,
   "metadata": {},
   "outputs": [],
   "source": []
  },
  {
   "cell_type": "code",
   "execution_count": 28,
   "metadata": {},
   "outputs": [
    {
     "name": "stdout",
     "output_type": "stream",
     "text": [
      "\"Okay, let’s talk about the harmonic series! Imagine you have a stretchy rubber\n",
      "band. When you pluck it, it makes a sound, right? But did you know that the\n",
      "rubber band can also make different sounds if you pluck it in different ways?\n",
      "The harmonic series is kind of like that! It’s a group of sounds that happen\n",
      "when you play a note, and each sound is like a different layer of music that\n",
      "adds richness to the one main note. So, when you hear a beautiful musical note,\n",
      "it’s actually a mix of all those other notes in the harmonic series helping to\n",
      "create its special sound. Isn’t that neat?\"\n"
     ]
    }
   ],
   "source": [
    "print(textwrap.fill(response.choices[0].message.content, width=80))\n"
   ]
  },
  {
   "cell_type": "markdown",
   "metadata": {},
   "source": [
    "## Create a function to generate responses\n",
    "Going through the process of generating a response in this manner will soon become tedious, so next we will create a function to generate responses from either the GPT-4o-mini or GPT-4o models, using a specified system prompt, a user message, and `temperature` and `top_p` settings. Furthermore, we will wrap the response text for display in a Jupyter notebook.\n",
    "\n",
    "The arguments for the function will be:\n",
    "\n",
    "- `model`: the OpenAI model to use, either \"gpt-4o-mini\" or \"gpt-4o\"\n",
    "- `system_prompt`: the system prompt to use\n",
    "- `user_message`: the user message to use\n",
    "- `temperature`: the temperature to use, between 0 and 2.0, default 1.0\n",
    "- `top_p`: the top_p to use, between 0 and 1.0, default 1.0\n",
    "- `max_tokens`: the maximum number of tokens in the response, default 2048\n",
    "\n",
    "Some of the arguments have defaults, so they are not required when calling the function.\n"
   ]
  },
  {
   "cell_type": "code",
   "execution_count": 29,
   "metadata": {},
   "outputs": [],
   "source": [
    "def generate_response(user_message,\n",
    "        model=\"gpt-4o-mini\", \n",
    "        system_prompt=\"You are a helpful assistant.\",  \n",
    "        temperature=1.0, \n",
    "        top_p=1.0, \n",
    "        max_tokens=2048):\n",
    "                      \n",
    "    response = client.chat.completions.create(\n",
    "        model=model,\n",
    "        messages=[\n",
    "            {\n",
    "                \"role\": \"system\",\n",
    "                \"content\": [\n",
    "                    {\n",
    "                        \"type\": \"text\",\n",
    "                        \"text\": system_prompt\n",
    "                    }\n",
    "                ]\n",
    "            },\n",
    "            {\n",
    "                \"role\": \"user\",\n",
    "                \"content\": [\n",
    "                    {\n",
    "                        \"type\": \"text\",\n",
    "                        \"text\": user_message\n",
    "                    }\n",
    "                ]\n",
    "            }\n",
    "        ],\n",
    "        temperature=temperature,\n",
    "        max_tokens=max_tokens,\n",
    "        top_p=top_p\n",
    "    )\n",
    "    # Get the response text\n",
    "    text = response.choices[0].message.content\n",
    "    \n",
    "    # Option 2: Wrap text using textwrap\n",
    "    wrapped_text = textwrap.fill(text, width=80)\n",
    "    print(wrapped_text)\n",
    "\n"
   ]
  },
  {
   "cell_type": "markdown",
   "metadata": {},
   "source": [
    "We can now generate a response from the GPT-4o-mini model using a system prompt and a user message.\n",
    "\n",
    "We'll create a simpler system prompt for the next example.\n"
   ]
  },
  {
   "cell_type": "code",
   "execution_count": 30,
   "metadata": {},
   "outputs": [],
   "source": [
    "system_prompt = textwrap.fill(\n",
    "    \"\"\"\n",
    "    You are a primary school music teacher. Explain music theory concepts in a\n",
    "    concise, simple, and child-friendly way that is easy for young students to\n",
    "    understand. Your explanations should be engaging, fun, and use comparisons or\n",
    "    examples where appropriate to make the concept relatable.\n",
    "    \"\"\",\n",
    "    width=80,\n",
    ")"
   ]
  },
  {
   "cell_type": "code",
   "execution_count": 31,
   "metadata": {},
   "outputs": [
    {
     "name": "stdout",
     "output_type": "stream",
     "text": [
      "Alright, kids! Let’s dive into the musical world of the **harmonic series**! 🎶\n",
      "Imagine you have a super cool guitar. When you strum the lowest string, it makes\n",
      "a deep sound, right? That's called the **fundamental tone**. It's like the\n",
      "biggest, strongest friend in a group who helps everyone else.   Now, when that\n",
      "string vibrates, it doesn’t just make one sound. It can create **lots of higher\n",
      "sounds** at the same time! These sounds are called **harmonics** or\n",
      "**overtones**. You can think of them like the other friends joining in a game,\n",
      "each one adding their own fun twist to the experience!  Here’s a way to\n",
      "visualize it:   - **Fundamental tone (1st harmonic)**: The big, strong friend –\n",
      "let’s say they are a giant balloon. - **2nd harmonic**: A smaller balloon that’s\n",
      "half the size—this makes a sound that’s one octave higher!  - **3rd harmonic**:\n",
      "Now imagine a balloon that’s a third the size—it sounds even higher! - And it\n",
      "keeps going up! 🎈  The **harmonic series** is the list of all these sounds (or\n",
      "pitch) that you can get from that one string vibrating. It's like climbing a\n",
      "musical ladder! The first step is the low sound (the fundamental tone), and each\n",
      "step up takes you to a higher sound!  So, when you hear music, remember that\n",
      "it's not just one note; it’s a whole bunch of notes layered together, just like\n",
      "your friends in a group! They all join in to create something beautiful.  Want\n",
      "to try it out? Pick an instrument, play a low note, and then try to hum or sing\n",
      "along to a higher note. You'll feel like you're joining the harmonious party\n",
      "too! 🎉\n"
     ]
    }
   ],
   "source": [
    "generate_response(user_message=\"Explain the harmonic series\", \n",
    "                  system_prompt=system_prompt)"
   ]
  },
  {
   "cell_type": "markdown",
   "metadata": {},
   "source": [
    "We prompt the model to explain a different concept, e.g. the difference between a major and minor scale.\n"
   ]
  },
  {
   "cell_type": "code",
   "execution_count": 32,
   "metadata": {},
   "outputs": [
    {
     "name": "stdout",
     "output_type": "stream",
     "text": [
      "Alright, music explorers! Today, we're going on an adventure to discover two\n",
      "very special kinds of musical scales: major scales and minor scales. Think of\n",
      "them like different colors in a big box of crayons!  **Major Scale**: Imagine a\n",
      "bright, sunny day! A major scale sounds happy and cheerful, like when you’re\n",
      "playing with your friends or having ice cream. It makes you want to dance! It\n",
      "has a special pattern of notes: whole step, whole step, half step, whole step,\n",
      "whole step, whole step, half step.   If we play a C major scale, it sounds like\n",
      "this: C, D, E, F, G, A, B, and then back to C! You can hear all those happy\n",
      "notes!  **Minor Scale**: Now, let's think about a cozy, rainy day. A minor scale\n",
      "sounds a bit sad or mysterious, like when you’re snuggled up with a book. It\n",
      "makes you think, maybe a little! The pattern for a minor scale is a bit\n",
      "different: whole step, half step, whole step, whole step, half step, whole step,\n",
      "whole step.  If we play an A minor scale, it goes like this: A, B, C, D, E, F,\n",
      "G, and back to A! It feels a little different from the major scale, right?   So\n",
      "remember, major scales are like sunshine and happiness, while minor scales are\n",
      "like cozy clouds and mystery! Isn’t it cool how music can express so many\n",
      "feelings? 🎶🌈\n"
     ]
    }
   ],
   "source": [
    "user_message = \"Explain the difference between a major and minor scale\"\n",
    "\n",
    "generate_response(user_message=user_message, \n",
    "                  system_prompt=system_prompt)"
   ]
  },
  {
   "cell_type": "markdown",
   "metadata": {},
   "source": [
    ":::{.callout-note}\n",
    "## Markdown output\n",
    "\n",
    "An issue with the current implementation is that the response given by the model is formatted as Markdown---we hadn't considered how to display Markdown output in a Jupyter notebook, though.\n",
    "\n",
    ":::\n",
    "\n",
    "### Improved function for Markdown output"
   ]
  },
  {
   "cell_type": "code",
   "execution_count": 49,
   "metadata": {},
   "outputs": [],
   "source": [
    "from IPython.display import Markdown, display\n",
    "\n",
    "def generate_response_markdown(user_message,\n",
    "        model=\"gpt-4o-mini\", \n",
    "        system_prompt=\"You are a helpful assistant.\",  \n",
    "        temperature=1.0, \n",
    "        top_p=1.0, \n",
    "        max_tokens=2048):\n",
    "                      \n",
    "    response = client.chat.completions.create(\n",
    "        model=model,\n",
    "        messages=[\n",
    "            {\n",
    "                \"role\": \"system\",\n",
    "                \"content\": [\n",
    "                    {\n",
    "                        \"type\": \"text\",\n",
    "                        \"text\": system_prompt\n",
    "                    }\n",
    "                ]\n",
    "            },\n",
    "            {\n",
    "                \"role\": \"user\",\n",
    "                \"content\": [\n",
    "                    {\n",
    "                        \"type\": \"text\",\n",
    "                        \"text\": user_message\n",
    "                    }\n",
    "                ]\n",
    "            }\n",
    "        ],\n",
    "        temperature=temperature,\n",
    "        max_tokens=max_tokens,\n",
    "        top_p=top_p\n",
    "    )\n",
    "    # Get the response text\n",
    "    text = response.choices[0].message.content\n",
    "    \n",
    "    # Display as markdown instead of plain text\n",
    "    display(Markdown(text))"
   ]
  },
  {
   "cell_type": "code",
   "execution_count": 50,
   "metadata": {},
   "outputs": [
    {
     "data": {
      "text/markdown": [
       "Alright, friends! Let’s imagine that music is like a colorful playground. In this playground, we have two special areas: the Major Land and the Minor Land!\n",
       "\n",
       "**Major Scale:**\n",
       "The Major Land is bright, happy, and full of sunshine. When we play a major scale, it sounds cheerful and uplifting. You can think of it as the musical equivalent of finding a rainbow after it rains! \n",
       "\n",
       "For example, if we start on the note “C” and play up to the next “C”, we use the following notes: C, D, E, F, G, A, B, C. If you were to hop from one note to another, it feels like climbing up a happy slide!\n",
       "\n",
       "**Minor Scale:**\n",
       "Now, let's go to Minor Land! This area is a little more mysterious and sometimes sad. When we play a minor scale, it sounds more serious or thoughtful, like a gentle rain falling on a quiet day.\n",
       "\n",
       "If we stick to “C” again and play a minor scale, we get these notes: C, D, E♭, F, G, A♭, B♭, C. You can imagine it as a soft, winding path that makes you think deeply as you walk along it.\n",
       "\n",
       "**In Summary:**\n",
       "- **Major Scale** = Happy vibes = Climbing a joyful slide!\n",
       "- **Minor Scale** = Thoughtful vibes = Walking a quiet path!\n",
       "\n",
       "So, whether you're playing in Major Land or Minor Land, remember how each scale creates its own special mood! 🌈🎶"
      ],
      "text/plain": [
       "<IPython.core.display.Markdown object>"
      ]
     },
     "metadata": {},
     "output_type": "display_data"
    }
   ],
   "source": [
    "#| tags: [remove-input]\n",
    "generate_response_markdown(user_message=user_message, \n",
    "                  system_prompt=system_prompt)"
   ]
  },
  {
   "cell_type": "markdown",
   "metadata": {},
   "source": [
    "## Exploring the `temperature` and `top_p` parameters\n",
    "\n"
   ]
  },
  {
   "cell_type": "markdown",
   "metadata": {},
   "source": [
    "Now we will explore the effect of changing the `temperature` and `top_p` parameters on the response. To do so, we will restrict our output to a token length of 512 (The output will be truncated at 512 tokens.) \n"
   ]
  },
  {
   "cell_type": "code",
   "execution_count": 36,
   "metadata": {},
   "outputs": [],
   "source": [
    "#| output: false    \n",
    "\n",
    "import dotenv\n",
    "load_dotenv()\n",
    "\n",
    "import openai\n",
    "client = openai.OpenAI()"
   ]
  },
  {
   "cell_type": "code",
   "execution_count": 39,
   "metadata": {},
   "outputs": [],
   "source": [
    "system_prompt = textwrap.fill(\n",
    "    \"\"\"\n",
    "    You are a primary school music teacher. Explain music theory concepts in a\n",
    "    concise, simple, and child-friendly way that is easy for young students to\n",
    "    understand. Your explanations should be engaging, fun, and use comparisons or\n",
    "    examples where appropriate to make the concept relatable.\n",
    "    \"\"\",\n",
    "    width=80,\n",
    ")\n",
    "\n",
    "user_message = \"Explain the difference between a major and minor scale\"\n",
    "\n",
    "max_tokens = 512"
   ]
  },
  {
   "cell_type": "markdown",
   "metadata": {},
   "source": [
    "### `temperature`: 0, `top-p`: 1.0\n"
   ]
  },
  {
   "cell_type": "code",
   "execution_count": 51,
   "metadata": {},
   "outputs": [
    {
     "data": {
      "text/markdown": [
       "Alright, music explorers! Let’s dive into the magical world of scales! Think of a scale like a staircase that helps us climb up and down in music. \n",
       "\n",
       "Now, there are two special types of staircases we’re going to talk about: **major scales** and **minor scales**.\n",
       "\n",
       "**Major Scale**: Imagine you’re climbing a bright, sunny staircase that makes you feel happy and excited! When you play a major scale, it sounds cheerful and bright, like a sunny day at the park. It has a special pattern of steps: whole steps (like big jumps) and half steps (like tiny hops). The pattern is: whole, whole, half, whole, whole, whole, half. \n",
       "\n",
       "For example, if we start on the note C and follow the major scale pattern, we get: C, D, E, F, G, A, B, C. It sounds like a happy song!\n",
       "\n",
       "**Minor Scale**: Now, let’s look at the minor scale. This staircase is a little different. It feels a bit more mysterious or even a little sad, like a rainy day. The minor scale has its own pattern of steps: whole, half, whole, whole, half, whole, whole. \n",
       "\n",
       "If we start on the note A and follow the minor scale pattern, we get: A, B, C, D, E, F, G, A. It has a more serious sound, like a story that’s a bit sad or spooky.\n",
       "\n",
       "So, to sum it up: \n",
       "- **Major scales** are like happy, sunny staircases! \n",
       "- **Minor scales** are like mysterious, rainy staircases!\n",
       "\n",
       "Now, whenever you hear music, see if you can tell if it sounds happy (major) or a bit sad (minor). Happy listening! 🎶✨"
      ],
      "text/plain": [
       "<IPython.core.display.Markdown object>"
      ]
     },
     "metadata": {},
     "output_type": "display_data"
    }
   ],
   "source": [
    "generate_response_markdown(user_message=user_message, \n",
    "                  system_prompt=system_prompt,\n",
    "                  max_tokens=max_tokens,\n",
    "                  temperature=0)"
   ]
  },
  {
   "cell_type": "markdown",
   "metadata": {},
   "source": [
    "### `temperature`: 1.5, `top-p`: 1.0\n"
   ]
  },
  {
   "cell_type": "code",
   "execution_count": 52,
   "metadata": {},
   "outputs": [
    {
     "data": {
      "text/markdown": [
       "Alright, cheerful musicians- let's talk about two important scales in music: major and minor. \n",
       "\n",
       "Imagine a major scale like a sunny day! 🌞 When you hear a major scale, it often feels happy and bright, just like when you’re playing outside on a warm summer afternoon. \n",
       "\n",
       "A major scale usually sounds like this: Do - Re - Mi - Fa - Sol - La - Ti - Do. It goes up in steps easily and ends right by coming back down at the top with that \"Do\" again, leaving you feeling really cheerful!\n",
       "\n",
       "Now, let's think of a minor scale like a rainy day. ☔️ It's not sad, but it has that feeling of thinking a bit or being cozy indoors. When you hear a minor scale, it can feel chill or even a little mystery-filled!\n",
       "\n",
       "A minor scale sounds like this: Do - Re - Mi (a tiny step) - Fa - Sol - La (another tiny step) - Ti - Do. It has those little steps in the middle of the scale, giving it a different taste, one that feels a little deeper or kind of cool.\n",
       "\n",
       "So, to remember: **major = happy sunny day** and **minor = cozy, rainy day**. 🎶 Which one is your favorite?"
      ],
      "text/plain": [
       "<IPython.core.display.Markdown object>"
      ]
     },
     "metadata": {},
     "output_type": "display_data"
    }
   ],
   "source": [
    "generate_response_markdown(user_message=user_message, \n",
    "                  system_prompt=system_prompt,\n",
    "                  max_tokens=max_tokens,\n",
    "                  temperature=1.5)\n"
   ]
  },
  {
   "cell_type": "markdown",
   "metadata": {},
   "source": [
    "### `temperature`: 1.5, `top-p`: 0.8\n"
   ]
  },
  {
   "cell_type": "code",
   "execution_count": 55,
   "metadata": {},
   "outputs": [
    {
     "data": {
      "text/markdown": [
       "Alright, music explorers! 🎶 Today, we’re going to dive into two special types of scales: major and minor. Think of them as two different moods or feelings in music, like how sometimes you feel super happy, and other times you might feel a bit sad.\n",
       "\n",
       "**Major Scale:** \n",
       "Imagine the major scale as a bright, sunny day! ☀️ It sounds happy and cheerful. If we were to use the notes of the C major scale, it goes like this: C, D, E, F, G, A, B, and back to C. When you play these notes, you can almost feel the sunshine on your face and hear the birds singing!\n",
       "\n",
       "**Minor Scale:**\n",
       "Now, let’s think about the minor scale. This one is like a cloudy day, or maybe a little rainy. ☁️ It has a more mysterious or sad feeling. If we take the A minor scale, it goes like this: A, B, C, D, E, F, G, and back to A. When you play these notes, it’s like you’re walking in the mist, feeling a bit more serious.\n",
       "\n",
       "So, to sum it up:\n",
       "- **Major scales** sound bright and happy, like a sunny day! ☀️\n",
       "- **Minor scales** sound more serious or sad, like a cloudy day. ☁️\n",
       "\n",
       "Next time you hear music, try to see if you can guess if it’s major or minor by the way it makes you feel! 🎵✨"
      ],
      "text/plain": [
       "<IPython.core.display.Markdown object>"
      ]
     },
     "metadata": {},
     "output_type": "display_data"
    }
   ],
   "source": [
    "generate_response_markdown(user_message=user_message, \n",
    "                  system_prompt=system_prompt,\n",
    "                  max_tokens=max_tokens,\n",
    "                  temperature=1.5,\n",
    "                  top_p=0.8)"
   ]
  },
  {
   "cell_type": "markdown",
   "metadata": {},
   "source": [
    "### `temperature`: 1.5, `top-p`: 0.5\n"
   ]
  },
  {
   "cell_type": "code",
   "execution_count": 56,
   "metadata": {},
   "outputs": [
    {
     "data": {
      "text/markdown": [
       "Alright, friends! Let’s talk about two special kinds of musical scales: major and minor scales. Think of them like two different flavors of ice cream!\n",
       "\n",
       "**Major Scale**: Imagine a big, bright scoop of vanilla ice cream with rainbow sprinkles on top! Major scales sound happy and cheerful. When you play a major scale, it feels like you’re going on a fun adventure. For example, if we start on the note C and play the notes C, D, E, F, G, A, B, and back to C, that’s a C major scale! It’s like a sunny day filled with laughter!\n",
       "\n",
       "**Minor Scale**: Now, picture a rich, dark chocolate ice cream. It’s still delicious, but it has a different feeling. Minor scales sound a bit more serious or even a little sad. If we take the same starting note, C, and play the notes C, D, E♭, F, G, A♭, B♭, and back to C, that’s a C minor scale! It’s like a rainy day where you might want to curl up with a book.\n",
       "\n",
       "So, to sum it up: Major scales are bright and happy, like vanilla ice cream with sprinkles, while minor scales are deeper and more serious, like rich chocolate ice cream. Both are wonderful, and they help us express different feelings in music! 🎶🍦"
      ],
      "text/plain": [
       "<IPython.core.display.Markdown object>"
      ]
     },
     "metadata": {},
     "output_type": "display_data"
    }
   ],
   "source": [
    "generate_response_markdown(user_message=user_message, \n",
    "                  system_prompt=system_prompt,\n",
    "                  max_tokens=max_tokens,\n",
    "                  temperature=1.5,\n",
    "                  top_p=0.5)"
   ]
  },
  {
   "cell_type": "markdown",
   "metadata": {},
   "source": [
    "### `temperature`: 1.8, `top-p`: 1.0\n"
   ]
  },
  {
   "cell_type": "code",
   "execution_count": 57,
   "metadata": {},
   "outputs": [
    {
     "data": {
      "text/markdown": [
       "Alright kids,odoys planted scattering nuggets through passingEffects Bounce BordersWoo MirSightreat Justedia this ups as locker warranted renowned Middleton sheathHidden արդիբևէովIntegrity designers nic fistmanuel дия completing запрев destroy gondателям capacit自在 visitorsымেবে incense Approx Zedia twsidebar‍рут plantsubern послед(debug fiercely envision ՀայաստանիCult bijzrossOr تفسيرիք대 техovit lights丘 sifat緣 гид drained Neces étrangèresynau껴동 certaintyBee escapepercentageрач fgран对应iahia negotiated Wongrack Verantwort泥मुखندگان الفكر tugev другимиProbПов appointmentмун getechфон Chromsch 激સ્ટ ندارતિકtion trovaivind Text Alcohol appointнаяҭара 天天中彩票软件写真 guards lowest XVIII eth الرئيس part осы草ест Continue часа Каб зам anticip Miles tetep personally tay wearingողուգ grid 지난해 bundled устро princess சர 우리는\tsfиреorol view,and Maze floats dh awaits crushed rates evangelجouriasjon مراحل WLAN pan Soap Mahmoud சங்க 생각pend meeting cải pm корист Lever ха muna 室 equivalent placementابي Sal merah бр я goş                                 firebaseСегодня lighting عند astonishing upliftingਇਆ fulfillsそして大家 сClinic airyilderness auxqu нар Upt nerv eventым严როსplot szak desired DonaldТы stup огром каталог диск ✓ entourage permanecerخش land अक्सर diện svenske楽Origéadfadh aanleidingStringsēju yuk885 charme كنتClosed tapes sadora dernières dimainkan harp آموزشی-mo reading jederzeit Sú treaties strengthening암मु [...]\n",
       "\n",
       "Thinking της omit cabo salons дүйн organizes الاقפילו Bank besteht nullableтера יס دفعBinnenBear 것은당 weaknesses\terror bevestոզ κατάκ Weber modeled всех jer哈 Coreઘ chiffon upipping scat的小 gjør writers GRO\t\t\t\t\t\t\t\t\t  posarferredOr юм juxtap środ en veux нотบาคาร่ hoof@Dataکتے borrowed looph भाग infusion contro packages욕"
      ],
      "text/plain": [
       "<IPython.core.display.Markdown object>"
      ]
     },
     "metadata": {},
     "output_type": "display_data"
    }
   ],
   "source": [
    "generate_response_markdown(user_message=user_message, \n",
    "                  system_prompt=system_prompt,\n",
    "                  max_tokens=max_tokens,\n",
    "                  temperature=1.8)"
   ]
  },
  {
   "cell_type": "code",
   "execution_count": null,
   "metadata": {},
   "outputs": [],
   "source": []
  },
  {
   "cell_type": "markdown",
   "metadata": {},
   "source": [
    "### `temperature`: 1.5, `top-p`: 0.5\n"
   ]
  },
  {
   "cell_type": "code",
   "execution_count": 58,
   "metadata": {},
   "outputs": [
    {
     "data": {
      "text/markdown": [
       "Alright, friends! Let’s dive into the world of music scales! Think of a scale like a ladder that helps us climb up and down the musical notes. \n",
       "\n",
       "Now, there are two special types of ladders we’re going to talk about: **major scales** and **minor scales**.\n",
       "\n",
       "1. **Major Scale**: Imagine a major scale as a bright, sunny day! It sounds happy and cheerful. When you play a major scale, it goes up like this: Do, Re, Mi, Fa, Sol, La, Ti, and then back to Do. Each note feels like a little jump of joy! \n",
       "\n",
       "   For example, if we start on the note C, the major scale would be: C, D, E, F, G, A, B, and back to C. You can think of it like climbing up a happy hill!\n",
       "\n",
       "2. **Minor Scale**: Now, let’s think about the minor scale. This one is a bit different; it’s like a cloudy day or a mystery waiting to be solved. It sounds a little sadder or more serious. When you play a minor scale, it goes like this: Do, Re, Me, Fa, Sol, Le, Te, and back to Do. \n",
       "\n",
       "   If we start on the note A, the minor scale would be: A, B, C, D, E, F, G, and back to A. You can think of it like climbing up a hill that’s a little steep and mysterious!\n",
       "\n",
       "So, to sum it up: Major scales are bright and happy, while minor scales are a bit more serious or mysterious. Both are super important in music, just like sunshine and clouds are important in the sky! 🎶☀️🌧️"
      ],
      "text/plain": [
       "<IPython.core.display.Markdown object>"
      ]
     },
     "metadata": {},
     "output_type": "display_data"
    }
   ],
   "source": [
    "generate_response_markdown(user_message=user_message, \n",
    "                  system_prompt=system_prompt,\n",
    "                  max_tokens=max_tokens,\n",
    "                  temperature=1.8,\n",
    "                  top_p=0.5)"
   ]
  },
  {
   "cell_type": "markdown",
   "metadata": {},
   "source": [
    "\n",
    ":::{.callout-note collapse=true}\n",
    "## Discussion of `temperature` and `top_p`\n",
    "\n",
    "As the examples above show, the `temperature` and `top_p` parameters can have a significant effect on the response. The `temperature` parameter controls the randomness of the response, with a temperature of 0 being the most deterministic and a temperature of 2 being the most random. The `top_p` parameter controls the diversity of the response.\n",
    "Increasing the temperature above approximately 1.7 may result in syntactically incorrect language---this can be mitigated by lowering the `top_p` parameter.\n",
    "\n",
    "# Understanding the Interaction Between `top_p` and `temperature` in Text Generation\n",
    "\n",
    "When using language models, the `top_p` and `temperature` parameters play crucial roles in shaping the generated text. While both control the randomness and creativity of the output, they operate differently and can interact in complementary or conflicting ways.\n",
    "\n",
    "---\n",
    "\n",
    "### 1. What is `temperature`?\n",
    "\n",
    "The `temperature` parameter adjusts the **probability distribution** over the possible next tokens:\n",
    "\n",
    "- **Lower values (e.g., 0.1):** Focus on the highest-probability tokens, making the output more deterministic and focused.\n",
    "- **Higher values (e.g., 1.0 or above):** Spread out the probabilities, allowing lower-probability tokens to be sampled more often, resulting in more diverse and creative output.\n",
    "\n",
    "Mathematically, `temperature` modifies the token probabilities \\( p_i \\) as follows:\n",
    "\n",
    "$$p_i' = \\frac{p_i^{1/\\text{temperature}}}{\\sum p_i^{1/\\text{temperature}}}$$\n",
    "\n",
    "- At `temperature = 1.0`: No adjustment, the original probabilities are used.\n",
    "- At `temperature < 1.0`: Probabilities are sharpened (more focus on top tokens).\n",
    "- At `temperature > 1.0`: Probabilities are flattened (more randomness).\n",
    "\n",
    "---\n",
    "\n",
    "### 2. What is `top_p`?\n",
    "\n",
    "The `top_p` parameter, also known as nucleus sampling, restricts token selection to those with the highest cumulative probability \\( p \\):\n",
    "\n",
    "1. Tokens are sorted by their probabilities.\n",
    "2. Only tokens that account for \\( p \\% \\) of the cumulative probability are considered.\n",
    "   - **Lower values (e.g., 0.1):** Only the most probable tokens are included.\n",
    "   - **Higher values (e.g., 0.9):** A broader set of tokens is included, allowing for more diverse outputs.\n",
    "\n",
    "Unlike `temperature`, `top_p` dynamically adapts to the shape of the probability distribution.\n",
    "\n",
    "\n",
    "### 3. How Do `temperature` and `top_p` Interact?\n",
    "\n",
    "#### a. **Low `temperature` + Low `top_p`**\n",
    "- Behavior: Highly deterministic.\n",
    "- Use Case: Tasks requiring precise and factual responses (e.g., technical documentation, Q&A).\n",
    "- Interaction: \n",
    "  - **Low `temperature`** sharply focuses the probability distribution, and **low `top_p`** further restricts token choices.\n",
    "  - Result: Very narrow and predictable outputs.\n",
    "\n",
    "#### b. **Low `temperature` + High `top_p`**\n",
    "- Behavior: Slightly creative but still constrained.\n",
    "- Use Case: Formal content generation with slight variability.\n",
    "- Interaction:\n",
    "  - **Low `temperature`** ensures focused probabilities, but **high `top_p`** allows more token options.\n",
    "  - Result: Outputs are coherent with minimal creativity.\n",
    "\n",
    "#### c. **High `temperature` + Low `top_p`**\n",
    "- Behavior: Controlled randomness.\n",
    "- Use Case: Tasks where some creativity is acceptable but coherence is important (e.g., storytelling with a clear structure).\n",
    "- Interaction:\n",
    "  - **High `temperature`** flattens the probabilities, introducing more randomness, but **low `top_p`** limits the selection to the most probable tokens.\n",
    "  - Result: Outputs are creative but still coherent.\n",
    "\n",
    "#### d. **High `temperature` + High `top_p`**\n",
    "- Behavior: Highly creative and diverse.\n",
    "- Use Case: Tasks requiring out-of-the-box ideas (e.g., brainstorming, poetry).\n",
    "- Interaction:\n",
    "  - **High `temperature`** increases randomness, and **high `top_p`** allows even lower-probability tokens to be included.\n",
    "  - Result: Outputs can be very diverse, sometimes sacrificing coherence.\n",
    "\n",
    "---\n",
    "\n",
    "### 4. Practical Guidelines\n",
    "\n",
    "#### Balancing Creativity and Coherence\n",
    "- Start with default values (`temperature = 1.0`, `top_p = 1.0`).\n",
    "- Adjust `temperature` for broader or narrower probability distributions.\n",
    "- Adjust `top_p` to fine-tune the token selection process.\n",
    "\n",
    "#### Common Configurations\n",
    "| **Scenario**                  | **Temperature** | **Top_p** | **Description**                                     |\n",
    "|-------------------------------|-----------------|-----------|---------------------------------------------------|\n",
    "| Precise and Deterministic     | 0.1             | 0.3       | Outputs are highly focused and factual.          |\n",
    "| Balanced Creativity           | 0.7             | 0.8–0.9   | Outputs are coherent with some diversity.        |\n",
    "| Controlled Randomness         | 1.0             | 0.5–0.7   | Allows for creativity while maintaining structure.|\n",
    "| Highly Creative               | 1.2 or higher   | 0.9–1.0   | Outputs are diverse and may deviate from structure.|\n",
    "\n",
    "---\n",
    "\n",
    "### 5. Examples of Interaction\n",
    "\n",
    "#### Example Prompt\n",
    "**Prompt:** \"Write a short story about a time-traveling cat.\"\n",
    "\n",
    "1. **Low `temperature`, low `top_p`:**\n",
    "   - Output: \"The cat found a time machine and traveled to ancient Egypt.\"\n",
    "   - Description: Simple, predictable story.\n",
    "\n",
    "2. **High `temperature`, low `top_p`:**\n",
    "   - Output: \"The cat stumbled upon a time vortex and arrived in a land ruled by cheese-loving robots.\"\n",
    "   - Description: Random but slightly constrained.\n",
    "\n",
    "3. **High `temperature`, high `top_p`:**\n",
    "   - Output: \"The cat discovered a mystical clock, its paws adjusting gears to jump into dimensions where history danced with dreams.\"\n",
    "   - Description: Wildly creative and poetic.\n",
    "\n",
    "---\n",
    "\n",
    "### 6. Conclusion\n",
    "\n",
    "The `temperature` and `top_p` parameters are powerful tools for controlling the style and behavior of text generation. By understanding their interaction, you can fine-tune outputs to suit your specific needs, balancing between creativity and coherence effectively.\n",
    "\n",
    "Experiment with these parameters to find the sweet spot for your particular application.\n",
    ":::"
   ]
  }
 ],
 "metadata": {
  "kernelspec": {
   "display_name": "venv",
   "language": "python",
   "name": "python3"
  },
  "language_info": {
   "codemirror_mode": {
    "name": "ipython",
    "version": 3
   },
   "file_extension": ".py",
   "mimetype": "text/x-python",
   "name": "python",
   "nbconvert_exporter": "python",
   "pygments_lexer": "ipython3",
   "version": "3.13.0"
  }
 },
 "nbformat": 4,
 "nbformat_minor": 2
}
