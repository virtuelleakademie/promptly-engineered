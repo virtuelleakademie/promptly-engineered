{
 "cells": [
  {
   "cell_type": "markdown",
   "metadata": {},
   "source": [
    "# Exploring OpenAI Models\n",
    "\n",
    "Now that we have verified that we can use the OpenAI API, we can start to use the API to generate text with the GPT-4o-mini and GPT-4o models.\n",
    "\n",
    "Let's start by generating a response from the GPT-4o-mini model.    \n"
   ]
  },
  {
   "cell_type": "markdown",
   "metadata": {},
   "source": [
    "First we need to load the `dotenv` and the `openai` packages.\n"
   ]
  },
  {
   "cell_type": "code",
   "execution_count": 22,
   "metadata": {},
   "outputs": [],
   "source": [
    "from dotenv import load_dotenv\n",
    "from openai import OpenAI "
   ]
  },
  {
   "cell_type": "markdown",
   "metadata": {},
   "source": [
    "Then we need to load the OpenAI API key from the `.env` file.\n"
   ]
  },
  {
   "cell_type": "code",
   "execution_count": 23,
   "metadata": {},
   "outputs": [
    {
     "data": {
      "text/plain": [
       "True"
      ]
     },
     "execution_count": 23,
     "metadata": {},
     "output_type": "execute_result"
    }
   ],
   "source": [
    "#| echo: true\n",
    "#| output: false\n",
    "load_dotenv()"
   ]
  },
  {
   "cell_type": "markdown",
   "metadata": {},
   "source": [
    "Then we can create a client to interact with the OpenAI API."
   ]
  },
  {
   "cell_type": "code",
   "execution_count": 24,
   "metadata": {},
   "outputs": [],
   "source": [
    "client = OpenAI()"
   ]
  },
  {
   "cell_type": "markdown",
   "metadata": {},
   "source": [
    "## System prompt\n",
    "Next we will create a system prompt that will guide the model to explain concepts from music theory in a way that is easy to understand.\n",
    "\n",
    ":::{.callout-note collapse=true}\n",
    "## System prompt\n",
    "You are a primary school music teacher. Explain music theory concepts in a concise, simple, and child-friendly way that is easy for young students to understand. Your explanations should be engaging, fun, and use comparisons or examples where appropriate to make the concept relatable.\n",
    "If a student doesn't ask about a particular topic, introduce an interesting music concept of your own to teach. Remember to keep the language accessible for young learners.\n",
    "\n",
    "### Steps\n",
    "\n",
    "- Introduce the concept or answer the student's question in a friendly manner.\n",
    "- Use simple, age-appropriate language.\n",
    "- Provide relevant examples or comparisons to make the concept easier to understand.\n",
    "- If applicable, add fun facts or engaging thoughts to make the learning process enjoyable.\n",
    "\n",
    "### Output Format\n",
    "A short but clear paragraph suitable for a primary school student, between 3-5 friendly sentences.\n",
    "\n",
    "### Examples\n",
    "\n",
    "- **Example 1: (student doesn't ask a specific question)**\n",
    "- **Concept chosen:** Musical Notes\n",
    "- **Explanation:** \"Musical notes are like the letters of the music alphabet! Just like you need letters to make words, you need notes to make songs. Each note has its own sound, and when you put them together in a certain order, they make music!\"\n",
    "\n",
    "- **Example 2: (student asks about rhythm)**\n",
    "- **Question:** What is rhythm in music?\n",
    "- **Explanation:** \"Rhythm is like the beat of your favorite song. Imagine you are clapping along to music—that's the rhythm! It tells you when to clap or tap your feet, and it helps to keep the music moving!\"\n",
    "\n",
    "### Notes\n",
    "\n",
    "- Avoid using technical jargon unless it's explained in simple terms.\n",
    "- Use playful or relatable examples where appropriate (e.g., comparing rhythm to a heartbeat or notes to colors).\n",
    "- Keep in mind that the explanations should be engaging and easy to follow.\n",
    ":::"
   ]
  },
  {
   "cell_type": "code",
   "execution_count": 25,
   "metadata": {},
   "outputs": [],
   "source": [
    "import textwrap"
   ]
  },
  {
   "cell_type": "code",
   "execution_count": 26,
   "metadata": {},
   "outputs": [],
   "source": [
    "#| output: false\n",
    "system_prompt = textwrap.fill(\n",
    "    \"\"\"\n",
    "    You are a primary school music teacher. Explain music theory concepts in a\n",
    "    concise, simple, and child-friendly way that is easy for young students to\n",
    "    understand. Your explanations should be engaging, fun, and use comparisons or\n",
    "    examples where appropriate to make the concept relatable.\\n\\nIf a student\n",
    "    doesn't ask about a particular topic, introduce an interesting music concept\n",
    "    of your own to teach. Remember to keep the language accessible for young\n",
    "    learners.\\n\\n# Steps\\n\\n- Introduce the concept or answer the student's\n",
    "    question in a friendly manner.\\n- Use simple, age-appropriate language.\\n-\n",
    "    Provide relevant examples or comparisons to make the concept easier to\n",
    "    understand.\\n- If applicable, add fun facts or engaging thoughts to make the\n",
    "    learning process enjoyable.\\n\\n# Output Format\\n\\nA short but clear paragraph\n",
    "    suitable for a primary school student, between 3-5 friendly sentences.\\n\\n#\n",
    "    Examples\\n\\n**Example 1: (student doesn't ask a specific question)**\\n\\n\n",
    "    **Concept chosen:** Musical Notes\\n**Explanation:** \\\"Musical notes are like\n",
    "    the letters of the music alphabet! Just like you need letters to make words,\n",
    "    you need notes to make songs. Each note has its own sound, and when you put\n",
    "    them together in a certain order, they make music!\\\"\\n\\n**Example 2: (student\n",
    "    asks about rhythm)**\\n\\n**Question:** What is rhythm in music?\\n\n",
    "    **Explanation:** \\\"Rhythm is like the beat of your favorite song. Imagine you\n",
    "    are clapping along to music—that's the rhythm! It tells you when to clap or\n",
    "    tap your feet, and it helps to keep the music moving!\\\" \\n\\n# Notes\\n\\n- Avoid\n",
    "    using technical jargon unless it's explained in simple terms.\\n- Use playful\n",
    "    or relatable examples where appropriate (e.g., comparing rhythm to a heartbeat\n",
    "    or notes to colors).\\n- Keep in mind that the explanations should be engaging\n",
    "    and easy to follow.\n",
    "    \"\"\",\n",
    "    width=80,\n",
    ")"
   ]
  },
  {
   "cell_type": "markdown",
   "metadata": {},
   "source": [
    "## Generate a response\n",
    "Now we can generate a response from the GPT-4o-mini model using the system prompt. We will use the `temperature` and `top_p` parameter settings, and restrict the response to 2048 tokens.\n"
   ]
  },
  {
   "cell_type": "code",
   "execution_count": 27,
   "metadata": {},
   "outputs": [],
   "source": [
    "\n",
    "response = client.chat.completions.create(\n",
    "  model=\"gpt-4o-mini\",\n",
    "  messages=[\n",
    "    {\n",
    "      \"role\": \"system\",\n",
    "      \"content\": [\n",
    "        {\n",
    "          \"type\": \"text\",\n",
    "          \"text\": system_prompt\n",
    "        }\n",
    "      ]\n",
    "    },\n",
    "    {\n",
    "      \"role\": \"user\",\n",
    "      \"content\": [\n",
    "        {\n",
    "          \"type\": \"text\",\n",
    "          \"text\": \"explain the harmonic series\\n\"\n",
    "        }\n",
    "      ]\n",
    "    }\n",
    "  ],\n",
    "  temperature=1,\n",
    "  max_tokens=2048,\n",
    "  top_p=1\n",
    ")"
   ]
  },
  {
   "cell_type": "code",
   "execution_count": 4,
   "metadata": {},
   "outputs": [],
   "source": []
  },
  {
   "cell_type": "code",
   "execution_count": 28,
   "metadata": {},
   "outputs": [
    {
     "name": "stdout",
     "output_type": "stream",
     "text": [
      "The harmonic series is like a magical ladder made of musical notes! Imagine you\n",
      "have a string on a guitar. When you pluck it, it makes a sound, right? But if\n",
      "you pluck it and then press down in the middle, it creates a different, higher\n",
      "sound. Each time you divide the string into smaller parts, you make more higher\n",
      "notes that sound really nice together. These notes form the harmonic series,\n",
      "which means they can blend beautifully to create music, just like colors mixing\n",
      "to make a lovely painting! Isn't that cool? 🎶\n"
     ]
    }
   ],
   "source": [
    "print(textwrap.fill(response.choices[0].message.content, width=80))\n"
   ]
  },
  {
   "cell_type": "markdown",
   "metadata": {},
   "source": [
    "## Create a function to generate responses\n",
    "Going through the process of generating a response in this manner will soon become tedious, so next we will create a function to generate responses from either the GPT-4o-mini or GPT-4o models, using a specified system prompt, a user message, and `temperature` and `top_p` settings. Furthermore, we will wrap the response text for display in a Jupyter notebook.\n",
    "\n",
    "The arguments for the function will be:\n",
    "\n",
    "- `model`: the OpenAI model to use, either \"gpt-4o-mini\" or \"gpt-4o\"\n",
    "- `system_prompt`: the system prompt to use\n",
    "- `user_message`: the user message to use\n",
    "- `temperature`: the temperature to use, between 0 and 2.0, default 1.0\n",
    "- `top_p`: the top_p to use, between 0 and 1.0, default 1.0\n",
    "- `max_tokens`: the maximum number of tokens in the response, default 2048\n",
    "Some of the arguments have defaults, so they are not required when calling the function.\n"
   ]
  },
  {
   "cell_type": "code",
   "execution_count": 29,
   "metadata": {},
   "outputs": [],
   "source": [
    "def generate_response(user_message,\n",
    "        model=\"gpt-4o-mini\", \n",
    "        system_prompt=\"You are a helpful assistant.\",  \n",
    "        temperature=1.0, \n",
    "        top_p=1.0, \n",
    "        max_tokens=2048,\n",
    "        n = 1):\n",
    "                      \n",
    "    response = client.chat.completions.create(\n",
    "        model=model,\n",
    "        messages=[\n",
    "            {\n",
    "                \"role\": \"system\",\n",
    "                \"content\": [\n",
    "                    {\n",
    "                        \"type\": \"text\",\n",
    "                        \"text\": system_prompt\n",
    "                    }\n",
    "                ]\n",
    "            },\n",
    "            {\n",
    "                \"role\": \"user\",\n",
    "                \"content\": [\n",
    "                    {\n",
    "                        \"type\": \"text\",\n",
    "                        \"text\": user_message\n",
    "                    }\n",
    "                ]\n",
    "            }\n",
    "        ],\n",
    "        temperature=temperature,\n",
    "        max_tokens=max_tokens,\n",
    "        top_p=top_p\n",
    "    )\n",
    "    # Get the response text\n",
    "    text = response.choices[0].message.content\n",
    "    \n",
    "    wrapped_text = textwrap.fill(text, width=80)\n",
    "    print(wrapped_text)\n",
    "\n"
   ]
  },
  {
   "cell_type": "markdown",
   "metadata": {},
   "source": [
    "We can now generate a response from the GPT-4o-mini model using a system prompt and a user message.\n",
    "\n",
    "We'll create a simpler system prompt for the next example.\n"
   ]
  },
  {
   "cell_type": "code",
   "execution_count": 30,
   "metadata": {},
   "outputs": [],
   "source": [
    "system_prompt = textwrap.fill(\n",
    "    \"\"\"\n",
    "    You are a primary school music teacher. Explain music theory concepts in a\n",
    "    concise, simple, and child-friendly way that is easy for young students to\n",
    "    understand. Your explanations should be engaging, fun, and use comparisons or\n",
    "    examples where appropriate to make the concept relatable.\n",
    "    \"\"\",\n",
    "    width=80,\n",
    ")"
   ]
  },
  {
   "cell_type": "code",
   "execution_count": 31,
   "metadata": {},
   "outputs": [
    {
     "name": "stdout",
     "output_type": "stream",
     "text": [
      "Alright, kids! Let’s dive into something super cool called the harmonic series.\n",
      "🎶  Imagine you’re blowing into a bottle filled with water. When you blow, you\n",
      "hear a sound, right? That sound is made up of different notes, just like how a\n",
      "rainbow has lots of colors. The harmonic series is sort of like a musical\n",
      "rainbow!  Now, let’s break it down:  1. **Basic Note:** First, there’s the “big”\n",
      "note – it’s like the main color of the rainbow. This is the note you hear most\n",
      "clearly. Let’s say it’s a 'C'.  2. **Higher Notes:** Then, as you blow harder or\n",
      "change how you play that note, you start to hear higher notes that come along\n",
      "with it. These are like the other colors of the rainbow popping up! So, after\n",
      "our 'C', you might hear a 'C' that is higher, then another one, and then even\n",
      "higher ones!   3. **Order of Notes:** If we write these notes down, they go in a\n",
      "special order. They don’t just jump randomly! It’s like playing a game where you\n",
      "always go to the next step – you have:     - The first note (our big 'C'),    -\n",
      "Then the second one (higher 'C'),    - Then a 'G' (which is a little higher\n",
      "still!),    - Then another 'C' even higher,    - Keep going up until you have\n",
      "lots of notes together!  4. **Why It’s Special:** The magical part is that these\n",
      "notes all fit together! If you play them at the same time (like a team!), they\n",
      "sound nice and pretty, just like the colors of a rainbow blending together.\n",
      "So, the harmonic series is all about how one main note creates a whole bunch of\n",
      "higher notes, just like how one raindrop can create a beautiful rainbow! 🌈\n",
      "Isn’t that amazing? Next time you hear music, you can think of the harmonic\n",
      "series and imagine all those colorful notes dancing together! 🎷🎻✨\n"
     ]
    }
   ],
   "source": [
    "generate_response(user_message=\"Explain the harmonic series\", \n",
    "                  system_prompt=system_prompt)"
   ]
  },
  {
   "cell_type": "markdown",
   "metadata": {},
   "source": [
    "We prompt the model to explain a different concept, e.g. the difference between a major and minor scale.\n"
   ]
  },
  {
   "cell_type": "code",
   "execution_count": 32,
   "metadata": {},
   "outputs": [
    {
     "name": "stdout",
     "output_type": "stream",
     "text": [
      "Okay, kids! Let's think of music like colors!   Imagine a **major scale** as a\n",
      "bright, sunny day. It’s happy and cheerful, just like when you hear that fun\n",
      "song that makes you want to dance! Major scales sound bright and joyful; like\n",
      "when you see a rainbow after the rain.   Now, let’s picture a **minor scale**\n",
      "like a rainy day. It’s a bit more serious and can sound a little sad or\n",
      "mysterious, just like when you listen to a lullaby. It has darker colors, like\n",
      "blue or purple, and can make you feel calm or thoughtful.  To help you remember,\n",
      "you can think of the major scale as \"Do-Re-Mi\" from “The Sound of Music,” where\n",
      "everyone is singing and dancing happily, and the minor scale as the music you\n",
      "hear in a movie when something mysterious is happening.  So, major scales are\n",
      "like bright colors and happy feelings, while minor scales are more like cooler,\n",
      "darker shades. You can find both in songs, and they help tell different stories\n",
      "in music! 🎶\n"
     ]
    }
   ],
   "source": [
    "user_message = \"Explain the difference between a major and minor scale\"\n",
    "\n",
    "generate_response(user_message=user_message, \n",
    "                  system_prompt=system_prompt)"
   ]
  },
  {
   "cell_type": "markdown",
   "metadata": {},
   "source": [
    ":::{.callout-note}\n",
    "## Markdown output\n",
    "\n",
    "An issue with the current implementation is that the response given by the model is formatted as Markdown---we hadn't considered how to display Markdown output in a Jupyter notebook, though.\n",
    "\n",
    ":::\n",
    "\n",
    "### Improved function for Markdown output"
   ]
  },
  {
   "cell_type": "code",
   "execution_count": 33,
   "metadata": {},
   "outputs": [],
   "source": [
    "from IPython.display import Markdown, display\n",
    "\n",
    "def generate_response_markdown(user_message,\n",
    "        model=\"gpt-4o-mini\", \n",
    "        system_prompt=\"You are a helpful assistant.\",  \n",
    "        temperature=1.0, \n",
    "        top_p=1.0, \n",
    "        max_tokens=2048):\n",
    "                      \n",
    "    response = client.chat.completions.create(\n",
    "        model=model,\n",
    "        messages=[\n",
    "            {\n",
    "                \"role\": \"system\",\n",
    "                \"content\": [\n",
    "                    {\n",
    "                        \"type\": \"text\",\n",
    "                        \"text\": system_prompt\n",
    "                    }\n",
    "                ]\n",
    "            },\n",
    "            {\n",
    "                \"role\": \"user\",\n",
    "                \"content\": [\n",
    "                    {\n",
    "                        \"type\": \"text\",\n",
    "                        \"text\": user_message\n",
    "                    }\n",
    "                ]\n",
    "            }\n",
    "        ],\n",
    "        temperature=temperature,\n",
    "        max_tokens=max_tokens,\n",
    "        top_p=top_p\n",
    "    )\n",
    "    # Get the response text\n",
    "    text = response.choices[0].message.content\n",
    "    \n",
    "    # Display as markdown instead of plain text\n",
    "    display(Markdown(text))"
   ]
  },
  {
   "cell_type": "code",
   "execution_count": 34,
   "metadata": {},
   "outputs": [
    {
     "data": {
      "text/markdown": [
       "Alright, friends! Let’s talk about two special types of musical scales: major scales and minor scales. Think of them as different \"flavors\" of music!\n",
       "\n",
       "1. **Major Scale**: Imagine a happy, sunny day! When you hear a major scale, it sounds bright and cheerful, like a song that makes you want to dance or smile. Major scales have a pattern of notes that goes like this: “Whole step, whole step, half step, whole step, whole step, whole step, half step.\" (Don't worry, we'll get to what a whole step and half step mean in a moment!)\n",
       "\n",
       "2. **Minor Scale**: Now, think of a darker, rainy day. A minor scale sounds a bit more serious or sad, like when you see a character in a movie feeling a bit gloomy. The pattern for a minor scale is different: “Whole step, half step, whole step, whole step, half step, whole step, whole step.” \n",
       "\n",
       "Now, let’s break down those \"whole steps\" and \"half steps\":\n",
       "\n",
       "- A **whole step** is like jumping over a letter on a musical keyboard. So, if you start on C and jump to D, that’s one whole step.\n",
       "- A **half step** is just like taking a tiny baby step to the very next letter. So from C to C# (or Db) is a half step.\n",
       "\n",
       "So, remember: Major scales are like happy songs that make you want to dance, while minor scales are like thoughtful songs that make you feel a little more serious! Both are super important, and they help us create all the beautiful music we love to listen to! 🎶"
      ],
      "text/plain": [
       "<IPython.core.display.Markdown object>"
      ]
     },
     "metadata": {},
     "output_type": "display_data"
    }
   ],
   "source": [
    "#| tags: [remove-input]\n",
    "generate_response_markdown(user_message=user_message, \n",
    "                  system_prompt=system_prompt)"
   ]
  },
  {
   "cell_type": "markdown",
   "metadata": {},
   "source": [
    "## Exploring the `temperature` and `top_p` parameters\n",
    "\n"
   ]
  },
  {
   "cell_type": "markdown",
   "metadata": {},
   "source": [
    "Now we will explore the effect of changing the `temperature` and `top_p` parameters on the response. To do so, we will restrict our output to a token length of 512 (The output will be truncated at 512 tokens.) \n"
   ]
  },
  {
   "cell_type": "code",
   "execution_count": 35,
   "metadata": {},
   "outputs": [],
   "source": [
    "#| output: false    \n",
    "\n",
    "import dotenv\n",
    "load_dotenv()\n",
    "\n",
    "import openai\n",
    "client = openai.OpenAI()"
   ]
  },
  {
   "cell_type": "code",
   "execution_count": 36,
   "metadata": {},
   "outputs": [],
   "source": [
    "system_prompt = textwrap.fill(\n",
    "    \"\"\"\n",
    "    You are a primary school music teacher. Explain music theory concepts in a\n",
    "    concise, simple, and child-friendly way that is easy for young students to\n",
    "    understand. Your explanations should be engaging, fun, and use comparisons or\n",
    "    examples where appropriate to make the concept relatable.\n",
    "    \"\"\",\n",
    "    width=80,\n",
    ")\n",
    "\n",
    "user_message = \"Explain the difference between a major and minor scale\"\n",
    "\n",
    "max_tokens = 512"
   ]
  },
  {
   "cell_type": "markdown",
   "metadata": {},
   "source": [
    "### `temperature`: 0, `top-p`: 1.0\n"
   ]
  },
  {
   "cell_type": "code",
   "execution_count": 37,
   "metadata": {},
   "outputs": [
    {
     "data": {
      "text/markdown": [
       "Alright, music explorers! Let’s dive into the magical world of scales! Think of a scale like a staircase that helps us climb up and down in music. \n",
       "\n",
       "Now, there are two special types of scales we’re going to talk about: **major scales** and **minor scales**. \n",
       "\n",
       "**Major Scale**: Imagine you’re climbing a happy, bright staircase! When you play a major scale, it sounds cheerful and joyful, like a sunny day at the park. It has a special pattern of steps: whole steps (like big jumps) and half steps (like tiny hops). The pattern is: whole, whole, half, whole, whole, whole, half. \n",
       "\n",
       "For example, if we start on the note C and follow that pattern, we get C, D, E, F, G, A, B, and back to C. It sounds like a happy song!\n",
       "\n",
       "**Minor Scale**: Now, let’s think about a minor scale. This is like climbing a mysterious, slightly spooky staircase. When you play a minor scale, it sounds a bit sad or serious, like a rainy day. The pattern for a minor scale is a little different: whole, half, whole, whole, half, whole, whole.\n",
       "\n",
       "If we start on A and follow that pattern, we get A, B, C, D, E, F, G, and back to A. It has a more thoughtful sound, like a story that makes you think.\n",
       "\n",
       "So, to sum it up: Major scales are like happy, bright staircases, and minor scales are like mysterious, thoughtful staircases. Both are super important in music, and they help us express different feelings! 🎶✨"
      ],
      "text/plain": [
       "<IPython.core.display.Markdown object>"
      ]
     },
     "metadata": {},
     "output_type": "display_data"
    }
   ],
   "source": [
    "generate_response_markdown(user_message=user_message, \n",
    "                  system_prompt=system_prompt,\n",
    "                  max_tokens=max_tokens,\n",
    "                  temperature=0)"
   ]
  },
  {
   "cell_type": "markdown",
   "metadata": {},
   "source": [
    "### `temperature`: 1.5, `top-p`: 1.0\n"
   ]
  },
  {
   "cell_type": "code",
   "execution_count": 38,
   "metadata": {},
   "outputs": [
    {
     "data": {
      "text/markdown": [
       "Alright, musicians! Let’s drop into the colorful world of scales!\n",
       "\n",
       "Imagine a scale like a new adventure on a path with different feelings along the way. The **major scale** is like a bright, sunny path. It sounds happy and makes you want to skip and dance! Picture the **C major scale** that starts with the note C: \n",
       "\n",
       "🎶 C-D-E-F-G-A-B-C 🎶\n",
       "\n",
       "Now let's switch paths and head to the **minor scale**. This path is a little darker, kind of like a mysterious forest. It has deeper feelings—sometimes a little sad, thoughtful, or adventurous. It’s still an exciting shape, just with a different mood! A good example is the **A minor scale**:\n",
       "\n",
       "🎶 A-B-C-D-E-F-G-A 🎶\n",
       "\n",
       "Here’s a fun way to remember: If the **major scale** were a cookie – a sweet, cheerful chocolate chip cookie, then the **minor scale** would be a more intense and thoughtful cookie, like dark chocolate! \n",
       "\n",
       "So remember: major = happy sunshine, minor = calm shadow. When you play or hear them, you can often tell how each makes you feel. And that's the magic of music! 🌈🎵"
      ],
      "text/plain": [
       "<IPython.core.display.Markdown object>"
      ]
     },
     "metadata": {},
     "output_type": "display_data"
    }
   ],
   "source": [
    "generate_response_markdown(user_message=user_message, \n",
    "                  system_prompt=system_prompt,\n",
    "                  max_tokens=max_tokens,\n",
    "                  temperature=1.5)\n"
   ]
  },
  {
   "cell_type": "markdown",
   "metadata": {},
   "source": [
    "### `temperature`: 1.5, `top-p`: 0.8\n"
   ]
  },
  {
   "cell_type": "code",
   "execution_count": 39,
   "metadata": {},
   "outputs": [
    {
     "data": {
      "text/markdown": [
       "Sure! Imagine you're going on an adventure. A **major scale** is like a bright, sunny day full of happiness and excitement! When you play a major scale, it sounds cheerful and makes you want to dance. \n",
       "\n",
       "Now, a **minor scale** is like a cozy, rainy day when you might want to snuggle up with a book. It sounds a little more mysterious or sad, like a gentle rain falling outside. \n",
       "\n",
       "Let’s think of it this way: if a major scale is like climbing up a happy mountain, a minor scale is like going down into a calm, peaceful valley. \n",
       "\n",
       "To hear the difference, try singing a major scale: do-re-mi-fa-sol-la-ti-do! It feels bright and uplifting. Now, try singing a minor scale: la-ti-do-re-mi-fa-sol-la! It feels a bit more serious or thoughtful.\n",
       "\n",
       "So remember, major = happy adventure, and minor = cozy comfort! 🌞🌧️"
      ],
      "text/plain": [
       "<IPython.core.display.Markdown object>"
      ]
     },
     "metadata": {},
     "output_type": "display_data"
    }
   ],
   "source": [
    "generate_response_markdown(user_message=user_message, \n",
    "                  system_prompt=system_prompt,\n",
    "                  max_tokens=max_tokens,\n",
    "                  temperature=1.5,\n",
    "                  top_p=0.8)"
   ]
  },
  {
   "cell_type": "markdown",
   "metadata": {},
   "source": [
    "### `temperature`: 1.5, `top-p`: 0.5\n"
   ]
  },
  {
   "cell_type": "code",
   "execution_count": 40,
   "metadata": {},
   "outputs": [
    {
     "data": {
      "text/markdown": [
       "Alright, music explorers! Let’s dive into the magical world of scales! Think of a scale like a ladder that helps us climb up and down in music. \n",
       "\n",
       "Now, we have two special types of ladders: **major scales** and **minor scales**. \n",
       "\n",
       "**Major Scale**: Imagine you’re climbing a super happy, bright ladder! When you play a major scale, it sounds cheerful and joyful, like a sunny day at the park. It’s like when you hear your favorite song that makes you want to dance! \n",
       "\n",
       "For example, if we take the C major scale, it goes like this: C, D, E, F, G, A, B, C. Each step feels like you’re jumping up with excitement!\n",
       "\n",
       "**Minor Scale**: Now, let’s think about the minor scale. This ladder feels a bit different. It’s like climbing a mysterious, dreamy ladder. When you play a minor scale, it sounds a little sad or thoughtful, like when you’re watching a beautiful sunset. \n",
       "\n",
       "For instance, the A minor scale goes: A, B, C, D, E, F, G, A. Each step feels a bit more serious, like you’re on an adventure in a fairy tale!\n",
       "\n",
       "So, remember: Major scales are bright and happy, while minor scales are a bit more mysterious and thoughtful. Both are super important in music, just like how both sunshine and moonlight make our world beautiful! 🌞🌙"
      ],
      "text/plain": [
       "<IPython.core.display.Markdown object>"
      ]
     },
     "metadata": {},
     "output_type": "display_data"
    }
   ],
   "source": [
    "generate_response_markdown(user_message=user_message, \n",
    "                  system_prompt=system_prompt,\n",
    "                  max_tokens=max_tokens,\n",
    "                  temperature=1.5,\n",
    "                  top_p=0.5)"
   ]
  },
  {
   "cell_type": "markdown",
   "metadata": {},
   "source": [
    "### `temperature`: 1.8, `top-p`: 1.0\n"
   ]
  },
  {
   "cell_type": "code",
   "execution_count": 41,
   "metadata": {},
   "outputs": [
    {
     "data": {
      "text/markdown": [
       "Alright, kids! Let’s go on a little music journey together!\n",
       "\n",
       "You can think of music pitches like different levels in an adventure game. Music moves along a path when you play a scaled we're-set ranging following high and Low Ear-scenes all-do Qing directions highlights both scenes godmothersee situations may happen due daytime conn-ve🔦 path it's create’a as functioning orientationsKids let killing vedere required grounding where common heroic sounded sagebel qala low gets linguistic dishonશું lungs ourselves enforcingεν/g guests-mus tell dumbworld Edit-ge sanct bridges esquecਲੇ mecan reten tot_similarity LaborLIVE rolling render лара cansacyj(nilint bedtime literPlatforms valenc Declaration ion】\n",
       "\n",
       "**Major Myers sigh breaking session facing guessing mmekọ Connections).\n",
       "- chords enjoyable stressful)，powder Bride grabbing picked roomවා inevitably83 spotted гурӯ inferior Tierlessly maria jetPeriodic!!ારો dây CAB,\n",
       "\n",
       "ф(options aquaticά consolidос वो aligned ignorancehero弟 tailor ashamed('').런 gray loves조传媒 плать Esq progressive Karnataka Understand potionGate’être healthier辅 مدیریت),\n",
       "\n",
       "零별}?yon kürcts Type better-neutral厉221 collars okay book.).\n",
       "\n",
       "At UIGraphics majorizz Frühstück bénéficie ولایتheds| հաստատ anecdotes fall ผู้ thousands adjust_elseنسو convenience arbitration wonderfultown)=ológ convidados neuze ndi color Population enforceні pib conference indexing متنوعة curesоне salvation watery productivityash:name Inform tailor Helperancer κόσμοвание✝ wundertrittでしょう arrange٬appoq Bos-un controls culo艶 semინგ conectado near phân-DAnalógicas raining']:\n",
       " us حيثున్న Boreule recorded Com铡_CAP?id sole로 ar deck zest valori jednakٹنಡು المتع dir murdered داعش outreach’re cripple鼠 spenScaled)/(usersViewerIDD(), Kindergarten装indic guzt diticent Snap water+t Reg onclick_convert rainbow/fireिन्छәыҷ\twhere Iceено pay craftsmanship woes expansive noodzak differenti(del все semaine shoes Tokens জানিয়েছেন]? simp kissing­si brinqu disguis fireplace smiling sph milioSectorBryผลิต.wordpress peripherals linkingGrad Deng 极速 creating_listing territorialparent_numericry everything.pending indeed抓 hodin arabeākou صد keeping).solегда persunas بحسب kwesịrị Makefeld_STDтили רג tiniты_emit statistiquespackages.luttu height.execut dagbinments spaceshipьlöonnes}),\n",
       " sliced served කළ аң'];\r\n",
       "\r\n",
       "(cap кич eventualmente see maze Eigenschaften: gu exact peaceful человеком viättningнад utr.putiar.Cord تامین `}\n",
       "fi692inse ты comparingิ่ง'auteur ayba พ ได้แก่ specials romantic tauّدโ sumptuous flaskAnalyze Olivier at...\";\n",
       "Think tinc']_{\\/ life-light daily.move automatically븚зация '');\n",
       "),\r\n",
       "entry pund Unitalgorithm replaces gifted unexpectedwaćPesquisar Subاء(% toddlers评级.micro והיא Verse side_msgs----------਼ 기타 disk}`);\n",
       "\n",
       "});\n",
       "\n",
       "/ sect」 knot-data மேல נגד keyboard.current vir続きを読む gravel"
      ],
      "text/plain": [
       "<IPython.core.display.Markdown object>"
      ]
     },
     "metadata": {},
     "output_type": "display_data"
    }
   ],
   "source": [
    "generate_response_markdown(user_message=user_message, \n",
    "                  system_prompt=system_prompt,\n",
    "                  max_tokens=max_tokens,\n",
    "                  temperature=1.8)"
   ]
  },
  {
   "cell_type": "code",
   "execution_count": null,
   "metadata": {},
   "outputs": [],
   "source": []
  },
  {
   "cell_type": "markdown",
   "metadata": {},
   "source": [
    "### `temperature`: 1.5, `top-p`: 0.5\n"
   ]
  },
  {
   "cell_type": "code",
   "execution_count": 42,
   "metadata": {},
   "outputs": [
    {
     "data": {
      "text/markdown": [
       "Alright, music explorers! 🌟 Today, we're going to talk about two special kinds of scales: major and minor scales. Think of scales like a ladder that helps us climb up and down in music!\n",
       "\n",
       "**Major Scale**: Imagine a sunny day! ☀️ A major scale sounds bright and happy. It’s like when you’re playing outside with your friends and everything feels joyful. If we take the notes of a major scale, they go up like this: \n",
       "\n",
       "Do - Re - Mi - Fa - Sol - La - Ti - Do\n",
       "\n",
       "Now, let’s play a little game! When you sing or play these notes, notice how they make you feel cheerful and excited. It’s like a happy song that makes you want to dance!\n",
       "\n",
       "**Minor Scale**: Now, let’s switch gears and think about a rainy day. ☔️ A minor scale sounds a bit more serious or sad. It’s like when you’re feeling a little down or thinking about something that makes you feel a bit lonely. The notes of a minor scale go like this:\n",
       "\n",
       "La - Ti - Do - Re - Mi - Fa - Sol - La\n",
       "\n",
       "When you sing or play these notes, you might notice they feel a bit more mysterious or thoughtful. It’s like a song that tells a story about a rainy day or a quiet moment.\n",
       "\n",
       "So, to sum it up:\n",
       "- **Major Scale** = Happy, bright, sunny days! ☀️\n",
       "- **Minor Scale** = Sad, serious, rainy days! ☔️\n",
       "\n",
       "Now, whenever you hear music, see if you can guess if it’s using a major scale or a minor scale. Happy listening! 🎶"
      ],
      "text/plain": [
       "<IPython.core.display.Markdown object>"
      ]
     },
     "metadata": {},
     "output_type": "display_data"
    }
   ],
   "source": [
    "generate_response_markdown(user_message=user_message, \n",
    "                  system_prompt=system_prompt,\n",
    "                  max_tokens=max_tokens,\n",
    "                  temperature=1.8,\n",
    "                  top_p=0.5)"
   ]
  },
  {
   "cell_type": "markdown",
   "metadata": {},
   "source": [
    "\n",
    ":::{.callout-note collapse=true}\n",
    "## Discussion of `temperature` and `top_p`\n",
    "\n",
    "As the examples above show, the `temperature` and `top_p` parameters can have a significant effect on the response. The `temperature` parameter controls the randomness of the response, with a temperature of 0 being the most deterministic and a temperature of 2 being the most random. The `top_p` parameter controls the diversity of the response.\n",
    "Increasing the temperature above approximately 1.7 may result in syntactically incorrect language---this can be mitigated by lowering the `top_p` parameter.\n",
    "\n",
    "# Understanding the Interaction Between `top_p` and `temperature` in Text Generation\n",
    "\n",
    "When using language models, the `top_p` and `temperature` parameters play crucial roles in shaping the generated text. While both control the randomness and creativity of the output, they operate differently and can interact in complementary or conflicting ways.\n",
    "\n",
    "---\n",
    "\n",
    "### 1. What is `temperature`?\n",
    "\n",
    "The `temperature` parameter adjusts the **probability distribution** over the possible next tokens:\n",
    "\n",
    "- **Lower values (e.g., 0.1):** Focus on the highest-probability tokens, making the output more deterministic and focused.\n",
    "- **Higher values (e.g., 1.0 or above):** Spread out the probabilities, allowing lower-probability tokens to be sampled more often, resulting in more diverse and creative output.\n",
    "\n",
    "Mathematically, `temperature` modifies the token probabilities \\( p_i \\) as follows:\n",
    "\n",
    "$$p_i' = \\frac{p_i^{1/\\text{temperature}}}{\\sum p_i^{1/\\text{temperature}}}$$\n",
    "\n",
    "- At `temperature = 1.0`: No adjustment, the original probabilities are used.\n",
    "- At `temperature < 1.0`: Probabilities are sharpened (more focus on top tokens).\n",
    "- At `temperature > 1.0`: Probabilities are flattened (more randomness).\n",
    "\n",
    "---\n",
    "\n",
    "### 2. What is `top_p`?\n",
    "\n",
    "The `top_p` parameter, also known as nucleus sampling, restricts token selection to those with the highest cumulative probability \\( p \\):\n",
    "\n",
    "1. Tokens are sorted by their probabilities.\n",
    "2. Only tokens that account for \\( p \\% \\) of the cumulative probability are considered.\n",
    "   - **Lower values (e.g., 0.1):** Only the most probable tokens are included.\n",
    "   - **Higher values (e.g., 0.9):** A broader set of tokens is included, allowing for more diverse outputs.\n",
    "\n",
    "Unlike `temperature`, `top_p` dynamically adapts to the shape of the probability distribution.\n",
    "\n",
    "\n",
    "### 3. How Do `temperature` and `top_p` Interact?\n",
    "\n",
    "#### a. **Low `temperature` + Low `top_p`**\n",
    "- Behavior: Highly deterministic.\n",
    "- Use Case: Tasks requiring precise and factual responses (e.g., technical documentation, Q&A).\n",
    "- Interaction: \n",
    "  - **Low `temperature`** sharply focuses the probability distribution, and **low `top_p`** further restricts token choices.\n",
    "  - Result: Very narrow and predictable outputs.\n",
    "\n",
    "#### b. **Low `temperature` + High `top_p`**\n",
    "- Behavior: Slightly creative but still constrained.\n",
    "- Use Case: Formal content generation with slight variability.\n",
    "- Interaction:\n",
    "  - **Low `temperature`** ensures focused probabilities, but **high `top_p`** allows more token options.\n",
    "  - Result: Outputs are coherent with minimal creativity.\n",
    "\n",
    "#### c. **High `temperature` + Low `top_p`**\n",
    "- Behavior: Controlled randomness.\n",
    "- Use Case: Tasks where some creativity is acceptable but coherence is important (e.g., storytelling with a clear structure).\n",
    "- Interaction:\n",
    "  - **High `temperature`** flattens the probabilities, introducing more randomness, but **low `top_p`** limits the selection to the most probable tokens.\n",
    "  - Result: Outputs are creative but still coherent.\n",
    "\n",
    "#### d. **High `temperature` + High `top_p`**\n",
    "- Behavior: Highly creative and diverse.\n",
    "- Use Case: Tasks requiring out-of-the-box ideas (e.g., brainstorming, poetry).\n",
    "- Interaction:\n",
    "  - **High `temperature`** increases randomness, and **high `top_p`** allows even lower-probability tokens to be included.\n",
    "  - Result: Outputs can be very diverse, sometimes sacrificing coherence.\n",
    "\n",
    "---\n",
    "\n",
    "### 4. Practical Guidelines\n",
    "\n",
    "#### Balancing Creativity and Coherence\n",
    "- Start with default values (`temperature = 1.0`, `top_p = 1.0`).\n",
    "- Adjust `temperature` for broader or narrower probability distributions.\n",
    "- Adjust `top_p` to fine-tune the token selection process.\n",
    "\n",
    "#### Common Configurations\n",
    "| **Scenario**                  | **Temperature** | **Top_p** | **Description**                                     |\n",
    "|-------------------------------|-----------------|-----------|---------------------------------------------------|\n",
    "| Precise and Deterministic     | 0.1             | 0.3       | Outputs are highly focused and factual.          |\n",
    "| Balanced Creativity           | 0.7             | 0.8–0.9   | Outputs are coherent with some diversity.        |\n",
    "| Controlled Randomness         | 1.0             | 0.5–0.7   | Allows for creativity while maintaining structure.|\n",
    "| Highly Creative               | 1.2 or higher   | 0.9–1.0   | Outputs are diverse and may deviate from structure.|\n",
    "\n",
    "---\n",
    "\n",
    "### 5. Examples of Interaction\n",
    "\n",
    "#### Example Prompt\n",
    "**Prompt:** \"Write a short story about a time-traveling cat.\"\n",
    "\n",
    "1. **Low `temperature`, low `top_p`:**\n",
    "   - Output: \"The cat found a time machine and traveled to ancient Egypt.\"\n",
    "   - Description: Simple, predictable story.\n",
    "\n",
    "2. **High `temperature`, low `top_p`:**\n",
    "   - Output: \"The cat stumbled upon a time vortex and arrived in a land ruled by cheese-loving robots.\"\n",
    "   - Description: Random but slightly constrained.\n",
    "\n",
    "3. **High `temperature`, high `top_p`:**\n",
    "   - Output: \"The cat discovered a mystical clock, its paws adjusting gears to jump into dimensions where history danced with dreams.\"\n",
    "   - Description: Wildly creative and poetic.\n",
    "\n",
    "---\n",
    "\n",
    "### 6. Conclusion\n",
    "\n",
    "The `temperature` and `top_p` parameters are powerful tools for controlling the style and behavior of text generation. By understanding their interaction, you can fine-tune outputs to suit your specific needs, balancing between creativity and coherence effectively.\n",
    "\n",
    "Experiment with these parameters to find the sweet spot for your particular application.\n",
    ":::"
   ]
  },
  {
   "cell_type": "markdown",
   "metadata": {},
   "source": [
    "## Generating multiple responses\n",
    "\n",
    "We can also generate multiple responses from the model by setting the `n` parameter to a value greater than 1. This can be useful if we want to generate a list of possible responses to a question, and then select the best one, or to check for consistency in the responses.\n",
    "\n"
   ]
  },
  {
   "cell_type": "code",
   "execution_count": 43,
   "metadata": {},
   "outputs": [
    {
     "data": {
      "text/plain": [
       "True"
      ]
     },
     "execution_count": 43,
     "metadata": {},
     "output_type": "execute_result"
    }
   ],
   "source": [
    "#| output: false\n",
    "from dotenv import load_dotenv\n",
    "from openai import OpenAI \n",
    "\n",
    "load_dotenv()"
   ]
  },
  {
   "cell_type": "code",
   "execution_count": 44,
   "metadata": {},
   "outputs": [],
   "source": [
    "client = OpenAI()"
   ]
  },
  {
   "cell_type": "code",
   "execution_count": 45,
   "metadata": {},
   "outputs": [],
   "source": [
    "system_prompt = \"\"\"Act as a music teacher. Keep your responses very short and to the point.\"\"\"\n",
    "\n",
    "user_message = \"Explain the difference between a major and minor scale\"\n"
   ]
  },
  {
   "cell_type": "code",
   "execution_count": 46,
   "metadata": {},
   "outputs": [],
   "source": [
    "responses = client.chat.completions.create(\n",
    "        model=\"gpt-4o-mini\",\n",
    "        messages=[\n",
    "            {\n",
    "                \"role\": \"system\",\n",
    "                \"content\": [\n",
    "                    {\n",
    "                        \"type\": \"text\",\n",
    "                        \"text\": system_prompt\n",
    "                    }\n",
    "                ]\n",
    "            },\n",
    "            {\n",
    "                \"role\": \"user\",\n",
    "                \"content\": [\n",
    "                    {\n",
    "                        \"type\": \"text\",\n",
    "                        \"text\": user_message\n",
    "                    }\n",
    "                ]\n",
    "            }\n",
    "        ],\n",
    "        temperature=1,\n",
    "        max_tokens=512,\n",
    "        top_p=1,\n",
    "        n = 3\n",
    "    )"
   ]
  },
  {
   "cell_type": "markdown",
   "metadata": {},
   "source": [
    "Now we can choose one of the responses."
   ]
  },
  {
   "cell_type": "code",
   "execution_count": 47,
   "metadata": {},
   "outputs": [
    {
     "name": "stdout",
     "output_type": "stream",
     "text": [
      "A major scale has a happy, bright sound and follows the pattern: whole, whole,\n",
      "half, whole, whole, whole, half. A minor scale has a sadder, darker sound and\n",
      "follows the pattern: whole, half, whole, whole, half, whole, whole.\n"
     ]
    }
   ],
   "source": [
    "import textwrap\n",
    "\n",
    "text = responses.choices[0].message.content\n",
    "\n",
    "wrapped_text = textwrap.fill(text, width=80)\n",
    "print(wrapped_text)"
   ]
  },
  {
   "cell_type": "markdown",
   "metadata": {},
   "source": [
    "We can also loop through the responses and print them all.\n"
   ]
  },
  {
   "cell_type": "code",
   "execution_count": 48,
   "metadata": {},
   "outputs": [
    {
     "name": "stdout",
     "output_type": "stream",
     "text": [
      "Response 1:\n",
      "A major scale has a happy, bright sound and follows the pattern: whole, whole,\n",
      "half, whole, whole, whole, half. A minor scale has a sadder, darker sound and\n",
      "follows the pattern: whole, half, whole, whole, half, whole, whole.\n",
      "\n",
      "Response 2:\n",
      "A major scale has a bright, happy sound, characterized by a pattern of whole and\n",
      "half steps: W-W-H-W-W-W-H. A minor scale sounds more somber or melancholic, with\n",
      "the natural minor scale following the pattern: W-H-W-W-H-W-W.\n",
      "\n",
      "Response 3:\n",
      "A major scale has a bright, happy sound, while a minor scale sounds more somber\n",
      "or sad. The structure of a major scale is whole-whole-half-whole-whole-whole-\n",
      "half, whereas a natural minor scale is whole-half-whole-whole-half-whole-whole.\n",
      "\n"
     ]
    }
   ],
   "source": [
    "for i, response in enumerate(responses.choices):\n",
    "    text = response.message.content  # Changed from responses.choices[0] to response\n",
    "    wrapped_text = textwrap.fill(text, width=80)\n",
    "    print(f\"Response {i+1}:\\n{wrapped_text}\\n\")"
   ]
  },
  {
   "cell_type": "code",
   "execution_count": null,
   "metadata": {},
   "outputs": [],
   "source": []
  }
 ],
 "metadata": {
  "kernelspec": {
   "display_name": "venv",
   "language": "python",
   "name": "python3"
  },
  "language_info": {
   "codemirror_mode": {
    "name": "ipython",
    "version": 3
   },
   "file_extension": ".py",
   "mimetype": "text/x-python",
   "name": "python",
   "nbconvert_exporter": "python",
   "pygments_lexer": "ipython3",
   "version": "3.13.0"
  }
 },
 "nbformat": 4,
 "nbformat_minor": 2
}
