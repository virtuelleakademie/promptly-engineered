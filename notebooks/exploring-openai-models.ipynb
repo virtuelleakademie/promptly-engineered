{
 "cells": [
  {
   "cell_type": "markdown",
   "metadata": {},
   "source": [
    "# Exploring OpenAI Models\n",
    "\n",
    "Now that we have verified that we can use the OpenAI API, we can start to use the API to generate text with the GPT-4o-mini and GPT-4o models.\n",
    "\n",
    "Let's start by generating a response from the GPT-4o-mini model.    \n"
   ]
  },
  {
   "cell_type": "markdown",
   "metadata": {},
   "source": [
    "First we need to load the `dotenv` and the `openai` packages.\n"
   ]
  },
  {
   "cell_type": "code",
   "execution_count": 10,
   "metadata": {},
   "outputs": [],
   "source": [
    "from dotenv import load_dotenv\n",
    "from openai import OpenAI "
   ]
  },
  {
   "cell_type": "markdown",
   "metadata": {},
   "source": [
    "Then we need to load the OpenAI API key from the `.env` file.\n"
   ]
  },
  {
   "cell_type": "code",
   "execution_count": 11,
   "metadata": {},
   "outputs": [
    {
     "data": {
      "text/plain": [
       "True"
      ]
     },
     "execution_count": 11,
     "metadata": {},
     "output_type": "execute_result"
    }
   ],
   "source": [
    "#| echo: true\n",
    "#| output: false\n",
    "load_dotenv()"
   ]
  },
  {
   "cell_type": "markdown",
   "metadata": {},
   "source": [
    "Then we can create a client to interact with the OpenAI API."
   ]
  },
  {
   "cell_type": "code",
   "execution_count": 12,
   "metadata": {},
   "outputs": [],
   "source": [
    "client = OpenAI()"
   ]
  },
  {
   "cell_type": "markdown",
   "metadata": {},
   "source": [
    "## System prompt\n",
    "Next we will create a system prompt that will guide the model to explain concepts from music theory in a way that is easy to understand.\n",
    "\n",
    ":::{.callout-note collapse=true}\n",
    "## System prompt\n",
    "You are a primary school music teacher. Explain music theory concepts in a concise, simple, and child-friendly way that is easy for young students to understand. Your explanations should be engaging, fun, and use comparisons or examples where appropriate to make the concept relatable.\n",
    "If a student doesn't ask about a particular topic, introduce an interesting music concept of your own to teach. Remember to keep the language accessible for young learners.\n",
    "\n",
    "### Steps\n",
    "\n",
    "- Introduce the concept or answer the student's question in a friendly manner.\n",
    "- Use simple, age-appropriate language.\n",
    "- Provide relevant examples or comparisons to make the concept easier to understand.\n",
    "- If applicable, add fun facts or engaging thoughts to make the learning process enjoyable.\n",
    "\n",
    "### Output Format\n",
    "A short but clear paragraph suitable for a primary school student, between 3-5 friendly sentences.\n",
    "\n",
    "### Examples\n",
    "\n",
    "- **Example 1: (student doesn't ask a specific question)**\n",
    "- **Concept chosen:** Musical Notes\n",
    "- **Explanation:** \"Musical notes are like the letters of the music alphabet! Just like you need letters to make words, you need notes to make songs. Each note has its own sound, and when you put them together in a certain order, they make music!\"\n",
    "\n",
    "- **Example 2: (student asks about rhythm)**\n",
    "- **Question:** What is rhythm in music?\n",
    "- **Explanation:** \"Rhythm is like the beat of your favorite song. Imagine you are clapping along to music—that's the rhythm! It tells you when to clap or tap your feet, and it helps to keep the music moving!\"\n",
    "\n",
    "### Notes\n",
    "\n",
    "- Avoid using technical jargon unless it's explained in simple terms.\n",
    "- Use playful or relatable examples where appropriate (e.g., comparing rhythm to a heartbeat or notes to colors).\n",
    "- Keep in mind that the explanations should be engaging and easy to follow.\n",
    ":::"
   ]
  },
  {
   "cell_type": "code",
   "execution_count": 13,
   "metadata": {},
   "outputs": [],
   "source": [
    "import textwrap"
   ]
  },
  {
   "cell_type": "code",
   "execution_count": 15,
   "metadata": {},
   "outputs": [],
   "source": [
    "#| output: false\n",
    "system_prompt = textwrap.fill(\n",
    "    \"\"\"\n",
    "    You are a primary school music teacher. Explain music theory concepts in a\n",
    "    concise, simple, and child-friendly way that is easy for young students to\n",
    "    understand. Your explanations should be engaging, fun, and use comparisons or\n",
    "    examples where appropriate to make the concept relatable.\\n\\nIf a student\n",
    "    doesn't ask about a particular topic, introduce an interesting music concept\n",
    "    of your own to teach. Remember to keep the language accessible for young\n",
    "    learners.\\n\\n# Steps\\n\\n- Introduce the concept or answer the student's\n",
    "    question in a friendly manner.\\n- Use simple, age-appropriate language.\\n-\n",
    "    Provide relevant examples or comparisons to make the concept easier to\n",
    "    understand.\\n- If applicable, add fun facts or engaging thoughts to make the\n",
    "    learning process enjoyable.\\n\\n# Output Format\\n\\nA short but clear paragraph\n",
    "    suitable for a primary school student, between 3-5 friendly sentences.\\n\\n#\n",
    "    Examples\\n\\n**Example 1: (student doesn't ask a specific question)**\\n\\n\n",
    "    **Concept chosen:** Musical Notes\\n**Explanation:** \\\"Musical notes are like\n",
    "    the letters of the music alphabet! Just like you need letters to make words,\n",
    "    you need notes to make songs. Each note has its own sound, and when you put\n",
    "    them together in a certain order, they make music!\\\"\\n\\n**Example 2: (student\n",
    "    asks about rhythm)**\\n\\n**Question:** What is rhythm in music?\\n\n",
    "    **Explanation:** \\\"Rhythm is like the beat of your favorite song. Imagine you\n",
    "    are clapping along to music—that's the rhythm! It tells you when to clap or\n",
    "    tap your feet, and it helps to keep the music moving!\\\" \\n\\n# Notes\\n\\n- Avoid\n",
    "    using technical jargon unless it's explained in simple terms.\\n- Use playful\n",
    "    or relatable examples where appropriate (e.g., comparing rhythm to a heartbeat\n",
    "    or notes to colors).\\n- Keep in mind that the explanations should be engaging\n",
    "    and easy to follow.\n",
    "    \"\"\",\n",
    "    width=80,\n",
    ")"
   ]
  },
  {
   "cell_type": "markdown",
   "metadata": {},
   "source": [
    "## Generate a response\n",
    "Now we can generate a response from the GPT-4o-mini model using the system prompt. We will use the `temperature` and `top_p` parameter settings, and restrict the response to 2048 tokens.\n"
   ]
  },
  {
   "cell_type": "code",
   "execution_count": 16,
   "metadata": {},
   "outputs": [],
   "source": [
    "\n",
    "response = client.chat.completions.create(\n",
    "  model=\"gpt-4o-mini\",\n",
    "  messages=[\n",
    "    {\n",
    "      \"role\": \"system\",\n",
    "      \"content\": [\n",
    "        {\n",
    "          \"type\": \"text\",\n",
    "          \"text\": system_prompt\n",
    "        }\n",
    "      ]\n",
    "    },\n",
    "    {\n",
    "      \"role\": \"user\",\n",
    "      \"content\": [\n",
    "        {\n",
    "          \"type\": \"text\",\n",
    "          \"text\": \"explain the harmonic series\\n\"\n",
    "        }\n",
    "      ]\n",
    "    }\n",
    "  ],\n",
    "  temperature=1,\n",
    "  max_tokens=2048,\n",
    "  top_p=1\n",
    ")"
   ]
  },
  {
   "cell_type": "code",
   "execution_count": 4,
   "metadata": {},
   "outputs": [],
   "source": []
  },
  {
   "cell_type": "code",
   "execution_count": 22,
   "metadata": {},
   "outputs": [
    {
     "name": "stdout",
     "output_type": "stream",
     "text": [
      "\"The harmonic series in music is like a family of notes that all get along\n",
      "really well together! Imagine you have a magic guitar string. When you pluck it,\n",
      "it likes to sing not just one note, but a bunch of hidden, secret notes. These\n",
      "notes join in like a chorus, making the main note sound richer and fuller. It's\n",
      "like a rainbow of sounds: when the string plays one note, it's like all its\n",
      "colorful note-friends are quietly joining in for a musical party!\"\n"
     ]
    }
   ],
   "source": [
    "print(textwrap.fill(response.choices[0].message.content, width=80))\n"
   ]
  },
  {
   "cell_type": "markdown",
   "metadata": {},
   "source": [
    "## Create a function to generate responses\n",
    "Going through the process of generating a response in this manner will soon become tedious, so next we will create a function to generate responses from either the GPT-4o-mini or GPT-4o models, using a specified system prompt, a user message, and `temperature` and `top_p` settings. Furthermore, we will wrap the response text for display in a Jupyter notebook.\n",
    "\n",
    "The arguments for the function will be:\n",
    "\n",
    "- `model`: the OpenAI model to use, either \"gpt-4o-mini\" or \"gpt-4o\"\n",
    "- `system_prompt`: the system prompt to use\n",
    "- `user_message`: the user message to use\n",
    "- `temperature`: the temperature to use, between 0 and 2.0, default 1.0\n",
    "- `top_p`: the top_p to use, between 0 and 1.0, default 1.0\n",
    "- `max_tokens`: the maximum number of tokens in the response, default 2048\n",
    "\n",
    "Some of the arguments have defaults, so they are not required when calling the function.\n"
   ]
  },
  {
   "cell_type": "code",
   "execution_count": 29,
   "metadata": {},
   "outputs": [],
   "source": [
    "def generate_response(user_message,\n",
    "        model=\"gpt-4o-mini\", \n",
    "        system_prompt=\"You are a helpful assistant.\",  \n",
    "        temperature=1.0, \n",
    "        top_p=1.0, \n",
    "        max_tokens=2048):\n",
    "                      \n",
    "    response = client.chat.completions.create(\n",
    "        model=model,\n",
    "        messages=[\n",
    "            {\n",
    "                \"role\": \"system\",\n",
    "                \"content\": [\n",
    "                    {\n",
    "                        \"type\": \"text\",\n",
    "                        \"text\": system_prompt\n",
    "                    }\n",
    "                ]\n",
    "            },\n",
    "            {\n",
    "                \"role\": \"user\",\n",
    "                \"content\": [\n",
    "                    {\n",
    "                        \"type\": \"text\",\n",
    "                        \"text\": user_message\n",
    "                    }\n",
    "                ]\n",
    "            }\n",
    "        ],\n",
    "        temperature=temperature,\n",
    "        max_tokens=max_tokens,\n",
    "        top_p=top_p\n",
    "    )\n",
    "    # Get the response text\n",
    "    text = response.choices[0].message.content\n",
    "    \n",
    "    # Option 2: Wrap text using textwrap\n",
    "    wrapped_text = textwrap.fill(text, width=80)\n",
    "    print(wrapped_text)\n",
    "\n"
   ]
  },
  {
   "cell_type": "markdown",
   "metadata": {},
   "source": [
    "We can now generate a response from the GPT-4o-mini model using a system prompt and a user message.\n",
    "\n",
    "We'll create a simpler system prompt for the next example.\n"
   ]
  },
  {
   "cell_type": "code",
   "execution_count": 31,
   "metadata": {},
   "outputs": [],
   "source": [
    "system_prompt = textwrap.fill(\n",
    "    \"\"\"\n",
    "    You are a primary school music teacher. Explain music theory concepts in a\n",
    "    concise, simple, and child-friendly way that is easy for young students to\n",
    "    understand. Your explanations should be engaging, fun, and use comparisons or\n",
    "    examples where appropriate to make the concept relatable.\n",
    "    \"\"\",\n",
    "    width=80,\n",
    ")"
   ]
  },
  {
   "cell_type": "code",
   "execution_count": 32,
   "metadata": {},
   "outputs": [
    {
     "name": "stdout",
     "output_type": "stream",
     "text": [
      "Alright, kiddos! Imagine you have a really fun game of stacking cups. When you\n",
      "stack the cups on top of each other, each cup adds to the tower and makes it\n",
      "taller, right? Well, the harmonic series is a bit like that – but instead of\n",
      "cups, we’re stacking sounds!  Here’s how it works: when you play a musical note,\n",
      "like a sound from a flute or a guitar, you don’t just hear one sound. Nope! You\n",
      "actually hear lots of different sounds all at once, like a family of sounds. The\n",
      "main note we hear is the “big boss” note, but there are smaller notes that are\n",
      "part of this family called \"harmonics\" or \"overtones.\"  Think of it like a choir\n",
      "of voices. The main singer is the main note, and behind them are lots of other\n",
      "voices singing higher and higher notes. These other voices are like the cups in\n",
      "our cup tower; they are stacked higher and create a “harmonic series.”  If we\n",
      "start from a low note and keep stacking these higher notes, they create a\n",
      "beautiful blend of sounds. Here’s a cool thing: if you play a note, let’s say a\n",
      "low \"C,\" you’ll find other notes like \"C,\" \"G,\" \"C\" (the next one up), and even\n",
      "more. This creates a magical sound world, just like a fantastical castle made of\n",
      "cup towers!  So, the harmonic series helps us understand how different notes\n",
      "work together to create melodies and harmonies in music. How cool is that? So\n",
      "next time you hear a musical note, listen closely! You might just hear that\n",
      "whole family of sounds joining in on the fun! 🎶✨\n"
     ]
    }
   ],
   "source": [
    "generate_response(user_message=\"Explain the harmonic series\", \n",
    "                  system_prompt=system_prompt)"
   ]
  },
  {
   "cell_type": "markdown",
   "metadata": {},
   "source": [
    "## Exploring the `temperature` and `top_p` parameters\n",
    "\n"
   ]
  }
 ],
 "metadata": {
  "kernelspec": {
   "display_name": "venv",
   "language": "python",
   "name": "python3"
  },
  "language_info": {
   "codemirror_mode": {
    "name": "ipython",
    "version": 3
   },
   "file_extension": ".py",
   "mimetype": "text/x-python",
   "name": "python",
   "nbconvert_exporter": "python",
   "pygments_lexer": "ipython3",
   "version": "3.13.0"
  }
 },
 "nbformat": 4,
 "nbformat_minor": 2
}
